{
 "cells": [
  {
   "cell_type": "markdown",
   "metadata": {},
   "source": [
    "### Final Project TD-Data Mining\n",
    "Notebook ini membahas penerapan data mining dalam bidang human resource, terutama dalam memprediksi pegawai apakah dalam kondisi 'Best Performance' atau tidak. <br>\n",
    "Pembahasan atau kode pada notebook ini berdasarkan kompetisi BRI Data Hackaton pada tahun 2021 untuk topik People Analytics (PA). <br>\n",
    "Untuk link kompetisi dapat dilihat [disini](https://www.kaggle.com/competitions/bri-data-hackathon-pa/overview) <br>\n",
    "Untuk open dataset dapat dilihat [disini](https://github.com/IndonesiaAI/BRI-Data-Hackathon) [unofficial] <br>\n",
    "\n",
    "#### Metrik evaluasi\n",
    "Untuk metrik evaluasi yang digunakan yaitu accuracy, precision, recall, f1-score, auc score dan confusion matrix"
   ]
  },
  {
   "cell_type": "markdown",
   "metadata": {},
   "source": [
    "#### Load library\n",
    "Library di load sekaligus pada cell dibawah, berikut detailnya:\n",
    "- Pandas dan Numpy untuk memproses data\n",
    "- Matplotlib dan Seaborn untuk visualisasi data\n",
    "- Datetime untuk get tahun saat ini \n",
    "- GaussianNB, RandomForestClassifier, LGBMClassifier adalah object yang merupakan algoritma dari klasifikasi supervised\n",
    "- StandardScaler untuk normalisasi data\n",
    "- Sklearn.metrics untuk evaluasi model"
   ]
  },
  {
   "cell_type": "code",
   "execution_count": 1,
   "metadata": {},
   "outputs": [],
   "source": [
    "import pandas as pd \n",
    "import numpy as np \n",
    "\n",
    "import matplotlib.pyplot as plt \n",
    "import seaborn as sns \n",
    "\n",
    "import datetime\n",
    "\n",
    "from sklearn.naive_bayes import GaussianNB\n",
    "from sklearn.ensemble import RandomForestClassifier\n",
    "from lightgbm import LGBMClassifier\n",
    "\n",
    "from random import seed\n",
    "\n",
    "from imblearn.over_sampling import SMOTE\n",
    "\n",
    "from sklearn.preprocessing import StandardScaler\n",
    "from sklearn.metrics import roc_auc_score, roc_curve, confusion_matrix\n",
    "from sklearn.metrics import accuracy_score, precision_score, recall_score, f1_score\n",
    "from sklearn.model_selection import cross_val_score, train_test_split\n",
    "\n",
    "import warnings\n",
    "\n",
    "warnings.filterwarnings('ignore')\n",
    "\n",
    "seed(20)"
   ]
  },
  {
   "cell_type": "markdown",
   "metadata": {},
   "source": [
    "#### Load dataset\n",
    "Dataset pada link diatas terdiri dari dataset training dan testing. Namun dataset testing tidak memiliki ground truth, sehingga tidak diperlukan (hanya untuk kebutuhan submission) <br>\n",
    "Maka untuk menguji akurasi dari model yang dibangun dilakukan dengan melakukan spliiting dataset training dengan komposisi training:testing yaitu 70:30"
   ]
  },
  {
   "cell_type": "code",
   "execution_count": 2,
   "metadata": {},
   "outputs": [
    {
     "name": "stdout",
     "output_type": "stream",
     "text": [
      "(22005, 30)\n"
     ]
    },
    {
     "data": {
      "text/html": [
       "<div>\n",
       "<style scoped>\n",
       "    .dataframe tbody tr th:only-of-type {\n",
       "        vertical-align: middle;\n",
       "    }\n",
       "\n",
       "    .dataframe tbody tr th {\n",
       "        vertical-align: top;\n",
       "    }\n",
       "\n",
       "    .dataframe thead th {\n",
       "        text-align: right;\n",
       "    }\n",
       "</style>\n",
       "<table border=\"1\" class=\"dataframe\">\n",
       "  <thead>\n",
       "    <tr style=\"text-align: right;\">\n",
       "      <th></th>\n",
       "      <th>job_level</th>\n",
       "      <th>job_duration_in_current_job_level</th>\n",
       "      <th>person_level</th>\n",
       "      <th>job_duration_in_current_person_level</th>\n",
       "      <th>job_duration_in_current_branch</th>\n",
       "      <th>Employee_type</th>\n",
       "      <th>Employee_status</th>\n",
       "      <th>gender</th>\n",
       "      <th>age</th>\n",
       "      <th>marital_status_maried(Y/N)</th>\n",
       "      <th>...</th>\n",
       "      <th>assign_of_otherposition</th>\n",
       "      <th>annual leave</th>\n",
       "      <th>sick_leaves</th>\n",
       "      <th>Best Performance</th>\n",
       "      <th>Avg_achievement_%</th>\n",
       "      <th>Last_achievement_%</th>\n",
       "      <th>Achievement_above_100%_during3quartal</th>\n",
       "      <th>achievement_target_1</th>\n",
       "      <th>achievement_target_2</th>\n",
       "      <th>achievement_target_3</th>\n",
       "    </tr>\n",
       "  </thead>\n",
       "  <tbody>\n",
       "    <tr>\n",
       "      <th>0</th>\n",
       "      <td>JG05</td>\n",
       "      <td>8.00</td>\n",
       "      <td>PG06</td>\n",
       "      <td>8.00</td>\n",
       "      <td>0.50</td>\n",
       "      <td>RM_type_A</td>\n",
       "      <td>Permanent</td>\n",
       "      <td>Female</td>\n",
       "      <td>1964</td>\n",
       "      <td>Y</td>\n",
       "      <td>...</td>\n",
       "      <td>0</td>\n",
       "      <td>8</td>\n",
       "      <td>0</td>\n",
       "      <td>0</td>\n",
       "      <td>68.85</td>\n",
       "      <td>72.53</td>\n",
       "      <td>0.0</td>\n",
       "      <td>achiev_50%-100%</td>\n",
       "      <td>achiev_&lt; 50%</td>\n",
       "      <td>reached</td>\n",
       "    </tr>\n",
       "    <tr>\n",
       "      <th>1</th>\n",
       "      <td>JG04</td>\n",
       "      <td>5.17</td>\n",
       "      <td>PG04</td>\n",
       "      <td>2.00</td>\n",
       "      <td>1.25</td>\n",
       "      <td>RM_type_A</td>\n",
       "      <td>Permanent</td>\n",
       "      <td>Male</td>\n",
       "      <td>1979</td>\n",
       "      <td>Y</td>\n",
       "      <td>...</td>\n",
       "      <td>9</td>\n",
       "      <td>3</td>\n",
       "      <td>0</td>\n",
       "      <td>0</td>\n",
       "      <td>94.81</td>\n",
       "      <td>101.13</td>\n",
       "      <td>3.0</td>\n",
       "      <td>achiev_50%-100%</td>\n",
       "      <td>achiev_50%-100%</td>\n",
       "      <td>reached</td>\n",
       "    </tr>\n",
       "    <tr>\n",
       "      <th>2</th>\n",
       "      <td>JG04</td>\n",
       "      <td>1.83</td>\n",
       "      <td>PG03</td>\n",
       "      <td>1.83</td>\n",
       "      <td>1.50</td>\n",
       "      <td>RM_type_A</td>\n",
       "      <td>Permanent</td>\n",
       "      <td>Male</td>\n",
       "      <td>1980</td>\n",
       "      <td>Y</td>\n",
       "      <td>...</td>\n",
       "      <td>0</td>\n",
       "      <td>6</td>\n",
       "      <td>0</td>\n",
       "      <td>0</td>\n",
       "      <td>72.82</td>\n",
       "      <td>71.30</td>\n",
       "      <td>0.0</td>\n",
       "      <td>achiev_100%-150%</td>\n",
       "      <td>achiev_&lt; 50%</td>\n",
       "      <td>not_reached</td>\n",
       "    </tr>\n",
       "    <tr>\n",
       "      <th>3</th>\n",
       "      <td>JG04</td>\n",
       "      <td>7.92</td>\n",
       "      <td>PG04</td>\n",
       "      <td>4.00</td>\n",
       "      <td>0.17</td>\n",
       "      <td>RM_type_A</td>\n",
       "      <td>Permanent</td>\n",
       "      <td>Male</td>\n",
       "      <td>1984</td>\n",
       "      <td>Y</td>\n",
       "      <td>...</td>\n",
       "      <td>0</td>\n",
       "      <td>3</td>\n",
       "      <td>0</td>\n",
       "      <td>0</td>\n",
       "      <td>86.89</td>\n",
       "      <td>90.09</td>\n",
       "      <td>2.0</td>\n",
       "      <td>achiev_50%-100%</td>\n",
       "      <td>achiev_50%-100%</td>\n",
       "      <td>not_reached</td>\n",
       "    </tr>\n",
       "    <tr>\n",
       "      <th>4</th>\n",
       "      <td>JG04</td>\n",
       "      <td>1.83</td>\n",
       "      <td>PG03</td>\n",
       "      <td>1.83</td>\n",
       "      <td>2.08</td>\n",
       "      <td>RM_type_A</td>\n",
       "      <td>Permanent</td>\n",
       "      <td>Male</td>\n",
       "      <td>1984</td>\n",
       "      <td>Y</td>\n",
       "      <td>...</td>\n",
       "      <td>11</td>\n",
       "      <td>2</td>\n",
       "      <td>1</td>\n",
       "      <td>1</td>\n",
       "      <td>95.17</td>\n",
       "      <td>100.72</td>\n",
       "      <td>2.0</td>\n",
       "      <td>achiev_&lt; 50%</td>\n",
       "      <td>achiev_&gt; 1.5</td>\n",
       "      <td>not_reached</td>\n",
       "    </tr>\n",
       "  </tbody>\n",
       "</table>\n",
       "<p>5 rows × 30 columns</p>\n",
       "</div>"
      ],
      "text/plain": [
       "  job_level  job_duration_in_current_job_level person_level  \\\n",
       "0      JG05                               8.00         PG06   \n",
       "1      JG04                               5.17         PG04   \n",
       "2      JG04                               1.83         PG03   \n",
       "3      JG04                               7.92         PG04   \n",
       "4      JG04                               1.83         PG03   \n",
       "\n",
       "   job_duration_in_current_person_level  job_duration_in_current_branch  \\\n",
       "0                                  8.00                            0.50   \n",
       "1                                  2.00                            1.25   \n",
       "2                                  1.83                            1.50   \n",
       "3                                  4.00                            0.17   \n",
       "4                                  1.83                            2.08   \n",
       "\n",
       "  Employee_type Employee_status  gender   age marital_status_maried(Y/N)  ...  \\\n",
       "0     RM_type_A       Permanent  Female  1964                          Y  ...   \n",
       "1     RM_type_A       Permanent    Male  1979                          Y  ...   \n",
       "2     RM_type_A       Permanent    Male  1980                          Y  ...   \n",
       "3     RM_type_A       Permanent    Male  1984                          Y  ...   \n",
       "4     RM_type_A       Permanent    Male  1984                          Y  ...   \n",
       "\n",
       "   assign_of_otherposition  annual leave  sick_leaves Best Performance  \\\n",
       "0                        0             8            0                0   \n",
       "1                        9             3            0                0   \n",
       "2                        0             6            0                0   \n",
       "3                        0             3            0                0   \n",
       "4                       11             2            1                1   \n",
       "\n",
       "   Avg_achievement_% Last_achievement_%  \\\n",
       "0              68.85              72.53   \n",
       "1              94.81             101.13   \n",
       "2              72.82              71.30   \n",
       "3              86.89              90.09   \n",
       "4              95.17             100.72   \n",
       "\n",
       "   Achievement_above_100%_during3quartal  achievement_target_1  \\\n",
       "0                                    0.0       achiev_50%-100%   \n",
       "1                                    3.0       achiev_50%-100%   \n",
       "2                                    0.0      achiev_100%-150%   \n",
       "3                                    2.0       achiev_50%-100%   \n",
       "4                                    2.0          achiev_< 50%   \n",
       "\n",
       "   achievement_target_2  achievement_target_3  \n",
       "0          achiev_< 50%               reached  \n",
       "1       achiev_50%-100%               reached  \n",
       "2          achiev_< 50%           not_reached  \n",
       "3       achiev_50%-100%           not_reached  \n",
       "4          achiev_> 1.5           not_reached  \n",
       "\n",
       "[5 rows x 30 columns]"
      ]
     },
     "execution_count": 2,
     "metadata": {},
     "output_type": "execute_result"
    }
   ],
   "source": [
    "# Load dataset\n",
    "train = pd.read_csv('./train.csv')\n",
    "\n",
    "print(train.shape)\n",
    "\n",
    "train.head()"
   ]
  },
  {
   "cell_type": "markdown",
   "metadata": {},
   "source": [
    "#### Simple Exploratory Data Analyst (EDA)\n",
    "Untuk mempermudah proses eksplorasi data, dibuat sebuah fungsi yang bernama __describer__ dengan parameter __dataframe__"
   ]
  },
  {
   "cell_type": "code",
   "execution_count": 3,
   "metadata": {},
   "outputs": [],
   "source": [
    "# Menjelaskan kondisi data (tipe data, null, unique, dll)\n",
    "def describer(df):\n",
    "    describer = pd.DataFrame(columns=['columns', 'type', 'unique', 'no_unique', 'null_values'])\n",
    "\n",
    "    for index, column in enumerate(df.columns):\n",
    "        describer.loc[index] = [\n",
    "            column, df[column].dtype, df[column].unique(), df[column].nunique(), df[column].isnull().sum()\n",
    "        ]\n",
    "    \n",
    "    return describer"
   ]
  },
  {
   "cell_type": "code",
   "execution_count": 4,
   "metadata": {},
   "outputs": [
    {
     "name": "stdout",
     "output_type": "stream",
     "text": [
      "row: 22005  column: 30\n"
     ]
    },
    {
     "data": {
      "text/html": [
       "<div>\n",
       "<style scoped>\n",
       "    .dataframe tbody tr th:only-of-type {\n",
       "        vertical-align: middle;\n",
       "    }\n",
       "\n",
       "    .dataframe tbody tr th {\n",
       "        vertical-align: top;\n",
       "    }\n",
       "\n",
       "    .dataframe thead th {\n",
       "        text-align: right;\n",
       "    }\n",
       "</style>\n",
       "<table border=\"1\" class=\"dataframe\">\n",
       "  <thead>\n",
       "    <tr style=\"text-align: right;\">\n",
       "      <th></th>\n",
       "      <th>columns</th>\n",
       "      <th>type</th>\n",
       "      <th>unique</th>\n",
       "      <th>no_unique</th>\n",
       "      <th>null_values</th>\n",
       "    </tr>\n",
       "  </thead>\n",
       "  <tbody>\n",
       "    <tr>\n",
       "      <th>0</th>\n",
       "      <td>job_level</td>\n",
       "      <td>object</td>\n",
       "      <td>[JG05, JG04, JG03, JG06]</td>\n",
       "      <td>4</td>\n",
       "      <td>0</td>\n",
       "    </tr>\n",
       "    <tr>\n",
       "      <th>1</th>\n",
       "      <td>job_duration_in_current_job_level</td>\n",
       "      <td>float64</td>\n",
       "      <td>[8.0, 5.17, 1.83, 7.92, 1.75, 2.42, 1.42, 1.5,...</td>\n",
       "      <td>102</td>\n",
       "      <td>0</td>\n",
       "    </tr>\n",
       "    <tr>\n",
       "      <th>2</th>\n",
       "      <td>person_level</td>\n",
       "      <td>object</td>\n",
       "      <td>[PG06, PG04, PG03, PG05, PG01, PG02, PG07, PG08]</td>\n",
       "      <td>8</td>\n",
       "      <td>0</td>\n",
       "    </tr>\n",
       "    <tr>\n",
       "      <th>3</th>\n",
       "      <td>job_duration_in_current_person_level</td>\n",
       "      <td>float64</td>\n",
       "      <td>[8.0, 2.0, 1.83, 4.0, 1.75, 2.42, 1.42, 1.5, 1...</td>\n",
       "      <td>86</td>\n",
       "      <td>0</td>\n",
       "    </tr>\n",
       "    <tr>\n",
       "      <th>4</th>\n",
       "      <td>job_duration_in_current_branch</td>\n",
       "      <td>float64</td>\n",
       "      <td>[0.5, 1.25, 1.5, 0.17, 2.08, 6.25, 1.33, 5.92,...</td>\n",
       "      <td>71</td>\n",
       "      <td>0</td>\n",
       "    </tr>\n",
       "    <tr>\n",
       "      <th>5</th>\n",
       "      <td>Employee_type</td>\n",
       "      <td>object</td>\n",
       "      <td>[RM_type_A, RM_type_C, RM_type_B, nan]</td>\n",
       "      <td>3</td>\n",
       "      <td>12</td>\n",
       "    </tr>\n",
       "    <tr>\n",
       "      <th>6</th>\n",
       "      <td>Employee_status</td>\n",
       "      <td>object</td>\n",
       "      <td>[Permanent, Contract]</td>\n",
       "      <td>2</td>\n",
       "      <td>0</td>\n",
       "    </tr>\n",
       "    <tr>\n",
       "      <th>7</th>\n",
       "      <td>gender</td>\n",
       "      <td>object</td>\n",
       "      <td>[Female, Male]</td>\n",
       "      <td>2</td>\n",
       "      <td>0</td>\n",
       "    </tr>\n",
       "    <tr>\n",
       "      <th>8</th>\n",
       "      <td>age</td>\n",
       "      <td>int64</td>\n",
       "      <td>[1964, 1979, 1980, 1984, 1986, 1987, 1988, 198...</td>\n",
       "      <td>37</td>\n",
       "      <td>0</td>\n",
       "    </tr>\n",
       "    <tr>\n",
       "      <th>9</th>\n",
       "      <td>marital_status_maried(Y/N)</td>\n",
       "      <td>object</td>\n",
       "      <td>[Y, N]</td>\n",
       "      <td>2</td>\n",
       "      <td>0</td>\n",
       "    </tr>\n",
       "    <tr>\n",
       "      <th>10</th>\n",
       "      <td>number_of_dependences</td>\n",
       "      <td>int64</td>\n",
       "      <td>[3, 1, 0, 2, 4, 5, 7]</td>\n",
       "      <td>7</td>\n",
       "      <td>0</td>\n",
       "    </tr>\n",
       "    <tr>\n",
       "      <th>11</th>\n",
       "      <td>number_of_dependences (male)</td>\n",
       "      <td>int64</td>\n",
       "      <td>[1, 2, 0, 3, 4]</td>\n",
       "      <td>5</td>\n",
       "      <td>0</td>\n",
       "    </tr>\n",
       "    <tr>\n",
       "      <th>12</th>\n",
       "      <td>number_of_dependences (female)</td>\n",
       "      <td>int64</td>\n",
       "      <td>[2, 1, 0, 3, 4]</td>\n",
       "      <td>5</td>\n",
       "      <td>0</td>\n",
       "    </tr>\n",
       "    <tr>\n",
       "      <th>13</th>\n",
       "      <td>Education_level</td>\n",
       "      <td>object</td>\n",
       "      <td>[level_4, level_5, level_3, nan, level_1, leve...</td>\n",
       "      <td>6</td>\n",
       "      <td>3608</td>\n",
       "    </tr>\n",
       "    <tr>\n",
       "      <th>14</th>\n",
       "      <td>GPA</td>\n",
       "      <td>float64</td>\n",
       "      <td>[2.32, 3.25, 3.23, 0.0, nan, 3.65, 2.84, 3.14,...</td>\n",
       "      <td>241</td>\n",
       "      <td>3503</td>\n",
       "    </tr>\n",
       "    <tr>\n",
       "      <th>15</th>\n",
       "      <td>year_graduated</td>\n",
       "      <td>object</td>\n",
       "      <td>[1987, 2001, 2007, 2006, nan, 2008, 2011, 2010...</td>\n",
       "      <td>52</td>\n",
       "      <td>3503</td>\n",
       "    </tr>\n",
       "    <tr>\n",
       "      <th>16</th>\n",
       "      <td>job_duration_as_permanent_worker</td>\n",
       "      <td>float64</td>\n",
       "      <td>[30.0, 15.0, 8.0, 7.0, 6.0, 5.0, 4.0, 3.0, 2.0...</td>\n",
       "      <td>33</td>\n",
       "      <td>2055</td>\n",
       "    </tr>\n",
       "    <tr>\n",
       "      <th>17</th>\n",
       "      <td>job_duration_from_training</td>\n",
       "      <td>int64</td>\n",
       "      <td>[30, 16, 15, 8, 7, 6, 5, 4, 3, 2, 24, 25, 29, ...</td>\n",
       "      <td>34</td>\n",
       "      <td>0</td>\n",
       "    </tr>\n",
       "    <tr>\n",
       "      <th>18</th>\n",
       "      <td>branch_rotation</td>\n",
       "      <td>int64</td>\n",
       "      <td>[9, 7, 5, 4, 1, 3, 2, 10, 11, 12, 6, 8, 13, 14...</td>\n",
       "      <td>20</td>\n",
       "      <td>0</td>\n",
       "    </tr>\n",
       "    <tr>\n",
       "      <th>19</th>\n",
       "      <td>job_rotation</td>\n",
       "      <td>int64</td>\n",
       "      <td>[7, 9, 5, 6, 4, 2, 3, 10, 1, 8, 11, 13, 12, 14...</td>\n",
       "      <td>15</td>\n",
       "      <td>0</td>\n",
       "    </tr>\n",
       "    <tr>\n",
       "      <th>20</th>\n",
       "      <td>assign_of_otherposition</td>\n",
       "      <td>int64</td>\n",
       "      <td>[0, 9, 11, 14, 4, 1, 2, 8, 6, 5, 7, 10, 13, 3,...</td>\n",
       "      <td>30</td>\n",
       "      <td>0</td>\n",
       "    </tr>\n",
       "    <tr>\n",
       "      <th>21</th>\n",
       "      <td>annual leave</td>\n",
       "      <td>int64</td>\n",
       "      <td>[8, 3, 6, 2, 12, 0, 10, 5, 4, 15, 1, 7, 9, 14,...</td>\n",
       "      <td>22</td>\n",
       "      <td>0</td>\n",
       "    </tr>\n",
       "    <tr>\n",
       "      <th>22</th>\n",
       "      <td>sick_leaves</td>\n",
       "      <td>int64</td>\n",
       "      <td>[0, 1, 2, 5, 4, 3, 6, 9, 8, 7, 14, 13, 11, 15,...</td>\n",
       "      <td>50</td>\n",
       "      <td>0</td>\n",
       "    </tr>\n",
       "    <tr>\n",
       "      <th>23</th>\n",
       "      <td>Best Performance</td>\n",
       "      <td>int64</td>\n",
       "      <td>[0, 1]</td>\n",
       "      <td>2</td>\n",
       "      <td>0</td>\n",
       "    </tr>\n",
       "    <tr>\n",
       "      <th>24</th>\n",
       "      <td>Avg_achievement_%</td>\n",
       "      <td>float64</td>\n",
       "      <td>[68.85, 94.81, 72.82, 86.89, 95.17, 89.3033333...</td>\n",
       "      <td>12217</td>\n",
       "      <td>6289</td>\n",
       "    </tr>\n",
       "    <tr>\n",
       "      <th>25</th>\n",
       "      <td>Last_achievement_%</td>\n",
       "      <td>float64</td>\n",
       "      <td>[72.53, 101.13, 71.3, 90.09, 100.72, 87.16, 70...</td>\n",
       "      <td>7047</td>\n",
       "      <td>6302</td>\n",
       "    </tr>\n",
       "    <tr>\n",
       "      <th>26</th>\n",
       "      <td>Achievement_above_100%_during3quartal</td>\n",
       "      <td>float64</td>\n",
       "      <td>[0.0, 3.0, 2.0, 1.0, nan]</td>\n",
       "      <td>4</td>\n",
       "      <td>6302</td>\n",
       "    </tr>\n",
       "    <tr>\n",
       "      <th>27</th>\n",
       "      <td>achievement_target_1</td>\n",
       "      <td>object</td>\n",
       "      <td>[achiev_50%-100%, achiev_100%-150%, achiev_&lt; 5...</td>\n",
       "      <td>9</td>\n",
       "      <td>6727</td>\n",
       "    </tr>\n",
       "    <tr>\n",
       "      <th>28</th>\n",
       "      <td>achievement_target_2</td>\n",
       "      <td>object</td>\n",
       "      <td>[achiev_&lt; 50%, achiev_50%-100%, achiev_&gt; 1.5, ...</td>\n",
       "      <td>9</td>\n",
       "      <td>6727</td>\n",
       "    </tr>\n",
       "    <tr>\n",
       "      <th>29</th>\n",
       "      <td>achievement_target_3</td>\n",
       "      <td>object</td>\n",
       "      <td>[reached, not_reached, nan, not reached]</td>\n",
       "      <td>3</td>\n",
       "      <td>6727</td>\n",
       "    </tr>\n",
       "  </tbody>\n",
       "</table>\n",
       "</div>"
      ],
      "text/plain": [
       "                                  columns     type  \\\n",
       "0                               job_level   object   \n",
       "1       job_duration_in_current_job_level  float64   \n",
       "2                            person_level   object   \n",
       "3    job_duration_in_current_person_level  float64   \n",
       "4          job_duration_in_current_branch  float64   \n",
       "5                           Employee_type   object   \n",
       "6                         Employee_status   object   \n",
       "7                                  gender   object   \n",
       "8                                     age    int64   \n",
       "9              marital_status_maried(Y/N)   object   \n",
       "10                  number_of_dependences    int64   \n",
       "11           number_of_dependences (male)    int64   \n",
       "12         number_of_dependences (female)    int64   \n",
       "13                        Education_level   object   \n",
       "14                                    GPA  float64   \n",
       "15                         year_graduated   object   \n",
       "16       job_duration_as_permanent_worker  float64   \n",
       "17             job_duration_from_training    int64   \n",
       "18                        branch_rotation    int64   \n",
       "19                           job_rotation    int64   \n",
       "20                assign_of_otherposition    int64   \n",
       "21                           annual leave    int64   \n",
       "22                            sick_leaves    int64   \n",
       "23                       Best Performance    int64   \n",
       "24                      Avg_achievement_%  float64   \n",
       "25                     Last_achievement_%  float64   \n",
       "26  Achievement_above_100%_during3quartal  float64   \n",
       "27                   achievement_target_1   object   \n",
       "28                   achievement_target_2   object   \n",
       "29                   achievement_target_3   object   \n",
       "\n",
       "                                               unique  no_unique  null_values  \n",
       "0                            [JG05, JG04, JG03, JG06]          4            0  \n",
       "1   [8.0, 5.17, 1.83, 7.92, 1.75, 2.42, 1.42, 1.5,...        102            0  \n",
       "2    [PG06, PG04, PG03, PG05, PG01, PG02, PG07, PG08]          8            0  \n",
       "3   [8.0, 2.0, 1.83, 4.0, 1.75, 2.42, 1.42, 1.5, 1...         86            0  \n",
       "4   [0.5, 1.25, 1.5, 0.17, 2.08, 6.25, 1.33, 5.92,...         71            0  \n",
       "5              [RM_type_A, RM_type_C, RM_type_B, nan]          3           12  \n",
       "6                               [Permanent, Contract]          2            0  \n",
       "7                                      [Female, Male]          2            0  \n",
       "8   [1964, 1979, 1980, 1984, 1986, 1987, 1988, 198...         37            0  \n",
       "9                                              [Y, N]          2            0  \n",
       "10                              [3, 1, 0, 2, 4, 5, 7]          7            0  \n",
       "11                                    [1, 2, 0, 3, 4]          5            0  \n",
       "12                                    [2, 1, 0, 3, 4]          5            0  \n",
       "13  [level_4, level_5, level_3, nan, level_1, leve...          6         3608  \n",
       "14  [2.32, 3.25, 3.23, 0.0, nan, 3.65, 2.84, 3.14,...        241         3503  \n",
       "15  [1987, 2001, 2007, 2006, nan, 2008, 2011, 2010...         52         3503  \n",
       "16  [30.0, 15.0, 8.0, 7.0, 6.0, 5.0, 4.0, 3.0, 2.0...         33         2055  \n",
       "17  [30, 16, 15, 8, 7, 6, 5, 4, 3, 2, 24, 25, 29, ...         34            0  \n",
       "18  [9, 7, 5, 4, 1, 3, 2, 10, 11, 12, 6, 8, 13, 14...         20            0  \n",
       "19  [7, 9, 5, 6, 4, 2, 3, 10, 1, 8, 11, 13, 12, 14...         15            0  \n",
       "20  [0, 9, 11, 14, 4, 1, 2, 8, 6, 5, 7, 10, 13, 3,...         30            0  \n",
       "21  [8, 3, 6, 2, 12, 0, 10, 5, 4, 15, 1, 7, 9, 14,...         22            0  \n",
       "22  [0, 1, 2, 5, 4, 3, 6, 9, 8, 7, 14, 13, 11, 15,...         50            0  \n",
       "23                                             [0, 1]          2            0  \n",
       "24  [68.85, 94.81, 72.82, 86.89, 95.17, 89.3033333...      12217         6289  \n",
       "25  [72.53, 101.13, 71.3, 90.09, 100.72, 87.16, 70...       7047         6302  \n",
       "26                          [0.0, 3.0, 2.0, 1.0, nan]          4         6302  \n",
       "27  [achiev_50%-100%, achiev_100%-150%, achiev_< 5...          9         6727  \n",
       "28  [achiev_< 50%, achiev_50%-100%, achiev_> 1.5, ...          9         6727  \n",
       "29           [reached, not_reached, nan, not reached]          3         6727  "
      ]
     },
     "execution_count": 4,
     "metadata": {},
     "output_type": "execute_result"
    }
   ],
   "source": [
    "# Show describer\n",
    "print('row:', train.shape[0], ' column:', train.shape[1])\n",
    "\n",
    "describer(train)"
   ]
  },
  {
   "cell_type": "markdown",
   "metadata": {},
   "source": [
    "#### Drop data kategorikal\n",
    "Karena data kategorikal tidak mungkin diisi dengan nilai (imputation) apapun, maka lebih baik di drop. <br>\n",
    "Berdasarkan informasi pada tabel diatas, fitur __Employee_type__ memiliki nilai null, sehingga hanya diambil data yang tidak null saja (notna)."
   ]
  },
  {
   "cell_type": "code",
   "execution_count": 5,
   "metadata": {},
   "outputs": [
    {
     "data": {
      "text/plain": [
       "array(['RM_type_A', 'RM_type_C', 'RM_type_B'], dtype=object)"
      ]
     },
     "execution_count": 5,
     "metadata": {},
     "output_type": "execute_result"
    }
   ],
   "source": [
    "# Drop data\n",
    "train = train[train['Employee_type'].notna()] \n",
    "\n",
    "train['Employee_type'].unique()"
   ]
  },
  {
   "cell_type": "markdown",
   "metadata": {},
   "source": [
    "#### Pemilihan nilai\n",
    "Dengan asumsi bahwa dataset dibuat pada tahun 2023, maka data yang dapat digunakan apabila fitur __age__ yaitu selisih 2021 dikurangi tahun lahir lebih atau sama dengan 17 tahun. <br>\n",
    "Fitur __age__ akan diset sebagai selisih antara selisih tahun sekarang dengan tahun lahir apabila lebih dari atau sama dengan 17 tahun. <br>\n",
    "Fitur __age__ akan diset sebagai None (null) apabila selisih tahun sekarang dengan tahun lahir apabila tidak lebih dari atau tidak sama dengan 17 tahun. <br>"
   ]
  },
  {
   "cell_type": "code",
   "execution_count": 6,
   "metadata": {},
   "outputs": [],
   "source": [
    "# Umur diatas 17 tahun\n",
    "year = 2021\n",
    "\n",
    "train['age'] = train['age'].apply(lambda age: year - age if year - age > 16 < 100 else None)"
   ]
  },
  {
   "cell_type": "markdown",
   "metadata": {},
   "source": [
    "Secara otomatis fitur __age__ bernilai null tidak akan digunakan"
   ]
  },
  {
   "cell_type": "code",
   "execution_count": 7,
   "metadata": {},
   "outputs": [],
   "source": [
    "# Umur diatas 17 tahun\n",
    "train = train[train['age'].notna()]\n",
    "train['age'] = train['age'].astype('int64')"
   ]
  },
  {
   "cell_type": "markdown",
   "metadata": {},
   "source": [
    "#### Filter GPA\n",
    "umumnya GPA atau IPK berada dalam rentang 0 hingga 4.0. Cek terlebih dahulu nilai-nilai dari fitur __GPA__ yang ada pada dataset. <br>\n",
    "Filter __GPA__ pada rentang 0 hingga 4."
   ]
  },
  {
   "cell_type": "code",
   "execution_count": 8,
   "metadata": {},
   "outputs": [
    {
     "data": {
      "text/plain": [
       "array([2.32, 3.25, 3.23, 0.  , 3.65, 2.84, 3.14, 3.01, 2.89, 3.  , 2.7 ,\n",
       "       3.03, 2.92, 3.44, 2.8 , 2.85, 3.21, 2.95, 2.99, 3.1 , 3.41, 3.19,\n",
       "       3.35, 3.34, 3.02, 3.22, 3.12, 3.27, 3.28, 3.08, 2.93, 2.74, 3.29,\n",
       "       3.47, 3.06, 2.63, 2.9 , 3.46, 3.43, 3.09, 2.76, 3.17, 2.98, 3.15,\n",
       "       3.36, 3.62, 3.16, 2.96, 3.68, 3.2 , 3.57, 3.18, 3.05, 3.8 , 2.97,\n",
       "       3.5 , 3.51, 3.38, 3.54, 3.67, 2.75, 3.04, 3.63, 2.82, 3.37, 3.42,\n",
       "       3.3 , 3.6 , 3.71, 2.78, 2.86, 3.31, 2.94, 3.53, 3.26, 3.49, 3.45,\n",
       "       3.13, 3.33, 3.55, 3.07, 3.69, 3.74, 3.4 , 3.48, 2.87, 2.72, 3.81,\n",
       "       3.11, 3.56, 3.78, 2.18, 2.79, 2.77, 3.73, 3.32, 3.64, 3.7 , 2.91,\n",
       "       3.52, 3.76, 3.86, 3.24, 3.58, 3.59, 3.85, 2.81, 3.61, 3.93, 2.71,\n",
       "       3.39, 2.88, 2.83, 3.79, 2.73, 2.66, 3.66, 2.69, 3.77, 2.57, 2.49,\n",
       "       3.72, 2.08, 3.84, 2.67, 3.75, 2.64, 3.83, 3.95, 2.43, 2.68, 1.75,\n",
       "       2.  , 2.65, 2.28, 2.05, 1.  , 2.61, 2.5 , 2.6 , 3.88, 3.92, 2.29,\n",
       "       2.45, 3.82, 2.27, 3.9 , 2.53, 2.59, 2.58, 3.89, 3.91, 0.3 , 3.96,\n",
       "       2.42, 2.51, 3.98, 3.87, 3.97, 2.31, 2.37, 3.99, 2.38, 4.  , 2.35,\n",
       "       2.2 , 2.62, 2.54, 3.94, 2.06, 2.23, 2.55, 2.07, 2.47, 2.21, 2.56])"
      ]
     },
     "execution_count": 8,
     "metadata": {},
     "output_type": "execute_result"
    }
   ],
   "source": [
    "# Select GPA\n",
    "train = train[train['GPA'].between(0, 4)]\n",
    "\n",
    "train['GPA'].unique()"
   ]
  },
  {
   "cell_type": "markdown",
   "metadata": {},
   "source": [
    "#### Tahun lulus\n",
    "Pada dataset dapat terlihat nilai-nilai pada fitur seperti dibawah ini. Terdapat beberapa nilai yang tidak semestinya (diluar range atau string untuk tahun)"
   ]
  },
  {
   "cell_type": "code",
   "execution_count": 9,
   "metadata": {},
   "outputs": [
    {
     "data": {
      "text/plain": [
       "array(['1987', '2001', '2007', '2006', '2008', '2011', '2010', '2013',\n",
       "       '2014', '\\\\N', '1996', '2009', '2005', '2012', '1989', '1992', '0',\n",
       "       '2000', '1994', '1997', '1995', '2004', '2015', '1993', '1986',\n",
       "       '1999', '2003', '2016', '2044', '2018', '1991', '2002', '2017',\n",
       "       '2201', '1998', '1990', '9999', '1984', '2020', '1988', '1983',\n",
       "       '1985', '201', '2019', '2031', '____', '3016', '-', '2200', '102',\n",
       "       '2999', '9464'], dtype=object)"
      ]
     },
     "execution_count": 9,
     "metadata": {},
     "output_type": "execute_result"
    }
   ],
   "source": [
    "# Year graduated\n",
    "train['year_graduated'].unique()"
   ]
  },
  {
   "cell_type": "markdown",
   "metadata": {},
   "source": [
    "Hapus data yang tidak relevan. __year_graduated__ dibatasi dari 1900 hingga 2021"
   ]
  },
  {
   "cell_type": "code",
   "execution_count": 10,
   "metadata": {},
   "outputs": [
    {
     "data": {
      "text/plain": [
       "array([1987, 2001, 2007, 2006, 2008, 2011, 2010, 2013, 2014, 1996, 2009,\n",
       "       2005, 2012, 1989, 1992, 2000, 1994, 1997, 1995, 2004, 2015, 1993,\n",
       "       1986, 1999, 2003, 2016, 2018, 1991, 2002, 2017, 1998, 1990, 1984,\n",
       "       2020, 1988, 1983, 1985, 2019], dtype=int64)"
      ]
     },
     "execution_count": 10,
     "metadata": {},
     "output_type": "execute_result"
    }
   ],
   "source": [
    "# Year graduated\n",
    "train = train[~train['year_graduated'].isin(['\\\\N', '____', '-'])]\n",
    "\n",
    "train['year_graduated'] = train['year_graduated'].astype('int64')\n",
    "train = train[train['year_graduated'].between(1900, 2021)]\n",
    "\n",
    "train['year_graduated'].unique()"
   ]
  },
  {
   "cell_type": "markdown",
   "metadata": {},
   "source": [
    "#### Educational level\n",
    "Ambil hanya __Educational_level__ yang bukan null"
   ]
  },
  {
   "cell_type": "code",
   "execution_count": 11,
   "metadata": {},
   "outputs": [
    {
     "data": {
      "text/plain": [
       "array(['level_4', 'level_5', 'level_3', 'level_1', 'level_2', 'level_0'],\n",
       "      dtype=object)"
      ]
     },
     "execution_count": 11,
     "metadata": {},
     "output_type": "execute_result"
    }
   ],
   "source": [
    "# Education level\n",
    "train = train[~train['Education_level'].isna()]\n",
    "\n",
    "train['Education_level'].unique()"
   ]
  },
  {
   "cell_type": "markdown",
   "metadata": {},
   "source": [
    "#### Job duration\n",
    "Ambil hanya __job_duration_as_permanent_worker__ yang bukan null"
   ]
  },
  {
   "cell_type": "code",
   "execution_count": 12,
   "metadata": {},
   "outputs": [],
   "source": [
    "train = train[~train['job_duration_as_permanent_worker'].isna()]"
   ]
  },
  {
   "cell_type": "markdown",
   "metadata": {},
   "source": [
    "#### Average dan Last achievement (%)\n",
    "untuk fitur __Avg_achievement\\_%__ dan __Last_achievement\\_\\%__ yang bernilai null dilengkapi dengan nilai mean dari fitur-fitur tersebut. <br>\n",
    "Hal yang sama juga dilakukan untuk fitur __Achievement_above\\_100%_during3quartal__"
   ]
  },
  {
   "cell_type": "code",
   "execution_count": 13,
   "metadata": {},
   "outputs": [],
   "source": [
    "# Imputation achievement yang kosong\n",
    "train['Avg_achievement_%'] = train['Avg_achievement_%'].fillna(np.mean(train['Avg_achievement_%'])) \n",
    "train['Last_achievement_%'] = train['Last_achievement_%'].fillna(np.mean(train['Last_achievement_%'])) "
   ]
  },
  {
   "cell_type": "code",
   "execution_count": 14,
   "metadata": {},
   "outputs": [],
   "source": [
    "train['Achievement_above_100%_during3quartal'] = train['Achievement_above_100%_during3quartal'].fillna(np.mean(train['Achievement_above_100%_during3quartal']))"
   ]
  },
  {
   "cell_type": "markdown",
   "metadata": {},
   "source": [
    "#### Data kategorikal\n",
    "Untuk data kategorikal terlebih dahulu diseragamkan labelnya. Kemudian tiap fitur akan disesuaikan atau digantikan labelnya dengan bobot\n",
    "1. __achievement_target_1__ dan __achievement_target_2__ akan mengalami penyesuaian label terlebih dahulu, lalu nilainya digantikan dengan bobot tertentu\n",
    "2. __achievement_target_3__ apabila reached akan bernilai 1 dan not reached sebagai 0\n",
    "3. __job_level__ dari JG03 hingga JG06 akan diberikan bobot secara berurutan dari 1 hingga 4\n",
    "4. __person_level__ dari PG01 hingga PG08 akan diberikan bobot secara berurutan dari 1 hingga 8\n",
    "5. __Employee_type__ RM_type_A bernilai 1, RM_type_B bernilai 2 dan RM_type_C bernilai 3\n",
    "6. __Employee_status__ setelah proses pra pemrosesan hanya tersisa __permanent__ (1)\n",
    "7. __gender__ antara male dan female dianggap setara (1)"
   ]
  },
  {
   "cell_type": "code",
   "execution_count": 15,
   "metadata": {},
   "outputs": [],
   "source": [
    "train['achievement_target_1'] = train['achievement_target_1'].replace({\n",
    "    'achiev_< 50%': '< 50%',\n",
    "    'Pencapaian < 50%': '< 50%',\n",
    "    'achiev_50%-100%': '50-100%',\n",
    "    'Pencapaian 50%-100%': '50-100%',\n",
    "    'achiev_> 1.5': '> 150%',\n",
    "    'Pencapaian > 1.5': '> 150%',\n",
    "    'achiev_100%-150%': '100-150%',\n",
    "    'Pencapaian 100%-150%': '100-150%',\n",
    "    'achiev_> 1.5': '> 150%',\n",
    "    'Pencapaian > 1.5': '> 150%',\n",
    "})\n",
    "\n",
    "train['achievement_target_2'] = train['achievement_target_1'].replace({\n",
    "    'achiev_< 50%': '< 50%',\n",
    "    'Pencapaian < 50%': '< 50%',\n",
    "    'achiev_50%-100%': '50-100%',\n",
    "    'Pencapaian 50%-100%': '50-100%',\n",
    "    'achiev_> 1.5': '> 150%',\n",
    "    'Pencapaian > 1.5': '> 150%',\n",
    "    'achiev_100%-150%': '100-150%',\n",
    "    'Pencapaian 100%-150%': '100-150%',\n",
    "    'achiev_> 1.5': '> 150%',\n",
    "    'Pencapaian > 1.5': '> 150%',\n",
    "})\n",
    "\n",
    "train['achievement_target_3'] = train['achievement_target_3'].replace({\n",
    "    'not reached': 'not_reached'\n",
    "})\n",
    "\n",
    "train['job_level'] = train['job_level'].replace({\n",
    "    'JG03': 1, 'JG04': 2, 'JG05': 3, 'JG06': 4\n",
    "}) \n",
    "\n",
    "train['person_level'] = train['person_level'].replace({\n",
    "    'PG01': 1, 'PG02': 2, 'PG03': 3, 'PG04': 4, 'PG05': 5, 'PG06': 6, 'PG07': 7, 'PG08': 8\n",
    "}) \n",
    "\n",
    "train['Employee_type'] = train['Employee_type'].replace({\n",
    "    'RM_type_A': 1, 'RM_type_B': 2, 'RM_type_C': 3 \n",
    "})\n",
    "\n",
    "train['Employee_status'] = train['Employee_status'].replace({'Permanent': 1})\n",
    "\n",
    "train['gender'] = train['gender'].replace({\n",
    "    'Female': 1, 'Male': 1 \n",
    "})\n",
    "\n",
    "train['marital_status_maried(Y/N)'] = train['marital_status_maried(Y/N)'].replace({\n",
    "    'Y': 1, 'N': 0 \n",
    "})\n",
    "\n",
    "train['Education_level'] = train['Education_level'].replace({\n",
    "   'level_0': 0, 'level_1': 1, 'level_2': 2, 'level_3': 3, 'level_4': 4, 'level_5': 5, 'level_6': 6 \n",
    "})\n",
    "\n",
    "train['achievement_target_1'] = train['achievement_target_1'].replace({\n",
    "   'Tidak diberikan target':0, '< 50%': 1, '50-100%': 2, '100-150%': 3, '> 150%': 4 \n",
    "})\n",
    "\n",
    "train['achievement_target_2'] = train['achievement_target_2'].replace({\n",
    "   'Tidak diberikan target':0, '< 50%': 1, '50-100%': 2, '100-150%': 3, '> 150%': 4 \n",
    "})\n",
    "\n",
    "train['achievement_target_3'] = train['achievement_target_3'].replace({\n",
    "   'reached':0, 'not_reached': 1\n",
    "})"
   ]
  },
  {
   "cell_type": "markdown",
   "metadata": {},
   "source": [
    "Filter data __achievement_target_1__ hanya data yang tidak null"
   ]
  },
  {
   "cell_type": "code",
   "execution_count": 16,
   "metadata": {},
   "outputs": [],
   "source": [
    "# Drop null\n",
    "train = train[~train['achievement_target_1'].isna()]"
   ]
  },
  {
   "cell_type": "markdown",
   "metadata": {},
   "source": [
    "#### Pemisahan fitur dan label kelas\n",
    "Mengingat __Best Performance__ adalah kelas label dan selain itu adalah prediktornya, pada cell dibawah ini akan memisahkan kedua hal tersebut berdasarkan nama fiturnya (bukan data) <br>\n",
    "Tujuannya adalah ketika akan memanggil data, cukup dari nama kolomnya saja (menghindari penulisan nama fitur yang terlalu panjang)"
   ]
  },
  {
   "cell_type": "code",
   "execution_count": 17,
   "metadata": {},
   "outputs": [],
   "source": [
    "# Pemisahan fitur dan label\n",
    "col_x = [col for col in train.columns if col != 'Best Performance']\n",
    "col_y = 'Best Performance'"
   ]
  },
  {
   "cell_type": "markdown",
   "metadata": {},
   "source": [
    "#### Normalisasi data\n",
    "Normalisasi data digunakan dengan metode standard scaler. Dengan begitu nilai rata-rata dari distribusi data adalah 0 dan standar deviasinya menjadi 1 <br>\n",
    "Mengurangi keberagaman data akan meningkatkan kualitas model"
   ]
  },
  {
   "cell_type": "code",
   "execution_count": 18,
   "metadata": {},
   "outputs": [
    {
     "data": {
      "text/plain": [
       "(11280, 29)"
      ]
     },
     "execution_count": 18,
     "metadata": {},
     "output_type": "execute_result"
    }
   ],
   "source": [
    "# Normalisasi data\n",
    "scaler = StandardScaler()\n",
    "scaled = scaler.fit_transform(train[col_x])\n",
    "\n",
    "scaled.shape"
   ]
  },
  {
   "cell_type": "code",
   "execution_count": 19,
   "metadata": {},
   "outputs": [],
   "source": [
    "# Dataframe untuk testing\n",
    "train_df = pd.DataFrame(columns=col_x, data=scaled)"
   ]
  },
  {
   "cell_type": "markdown",
   "metadata": {},
   "source": [
    "#### Label kelas\n",
    "Visualisasi label kelas apakah dalam kondisi seimbang atau tidak. Pada grafik dibawah ini terlihat adanya kelas yang tidak seimbang"
   ]
  },
  {
   "cell_type": "code",
   "execution_count": 20,
   "metadata": {},
   "outputs": [
    {
     "data": {
      "text/plain": [
       "<matplotlib.legend.Legend at 0x26f0d40e910>"
      ]
     },
     "execution_count": 20,
     "metadata": {},
     "output_type": "execute_result"
    },
    {
     "data": {
      "image/png": "[encoded data removed]",
      "text/plain": [
       "<Figure size 640x480 with 1 Axes>"
      ]
     },
     "metadata": {},
     "output_type": "display_data"
    }
   ],
   "source": [
    "# Check class balanced\n",
    "sns.countplot(train, x='Best Performance', hue='Best Performance', palette='Blues')\n",
    "\n",
    "plt.legend(['Not Best Performance', 'Best Performance'])"
   ]
  },
  {
   "cell_type": "markdown",
   "metadata": {},
   "source": [
    "#### SMOTE\n",
    "Synthetic Minority Oversampling Technique merupakan teknik oversampling data dengan melakukan sintetis data pada kelas minoritas. <br>\n",
    "Berdasarkan visualisasi diatas dapat terlihat bahwa best performance sebagai kelas minoritas."
   ]
  },
  {
   "cell_type": "code",
   "execution_count": 21,
   "metadata": {},
   "outputs": [
    {
     "data": {
      "text/html": [
       "<div>\n",
       "<style scoped>\n",
       "    .dataframe tbody tr th:only-of-type {\n",
       "        vertical-align: middle;\n",
       "    }\n",
       "\n",
       "    .dataframe tbody tr th {\n",
       "        vertical-align: top;\n",
       "    }\n",
       "\n",
       "    .dataframe thead th {\n",
       "        text-align: right;\n",
       "    }\n",
       "</style>\n",
       "<table border=\"1\" class=\"dataframe\">\n",
       "  <thead>\n",
       "    <tr style=\"text-align: right;\">\n",
       "      <th></th>\n",
       "      <th>job_level</th>\n",
       "      <th>job_duration_in_current_job_level</th>\n",
       "      <th>person_level</th>\n",
       "      <th>job_duration_in_current_person_level</th>\n",
       "      <th>job_duration_in_current_branch</th>\n",
       "      <th>Employee_type</th>\n",
       "      <th>Employee_status</th>\n",
       "      <th>gender</th>\n",
       "      <th>age</th>\n",
       "      <th>marital_status_maried(Y/N)</th>\n",
       "      <th>...</th>\n",
       "      <th>assign_of_otherposition</th>\n",
       "      <th>annual leave</th>\n",
       "      <th>sick_leaves</th>\n",
       "      <th>Avg_achievement_%</th>\n",
       "      <th>Last_achievement_%</th>\n",
       "      <th>Achievement_above_100%_during3quartal</th>\n",
       "      <th>achievement_target_1</th>\n",
       "      <th>achievement_target_2</th>\n",
       "      <th>achievement_target_3</th>\n",
       "      <th>Best Performance</th>\n",
       "    </tr>\n",
       "  </thead>\n",
       "  <tbody>\n",
       "    <tr>\n",
       "      <th>0</th>\n",
       "      <td>3</td>\n",
       "      <td>8.00</td>\n",
       "      <td>6</td>\n",
       "      <td>8.00</td>\n",
       "      <td>0.50</td>\n",
       "      <td>1</td>\n",
       "      <td>1</td>\n",
       "      <td>1</td>\n",
       "      <td>57</td>\n",
       "      <td>1</td>\n",
       "      <td>...</td>\n",
       "      <td>0</td>\n",
       "      <td>8</td>\n",
       "      <td>0</td>\n",
       "      <td>68.850000</td>\n",
       "      <td>72.53</td>\n",
       "      <td>0.0</td>\n",
       "      <td>2.0</td>\n",
       "      <td>2.0</td>\n",
       "      <td>0.0</td>\n",
       "      <td>0</td>\n",
       "    </tr>\n",
       "    <tr>\n",
       "      <th>1</th>\n",
       "      <td>2</td>\n",
       "      <td>5.17</td>\n",
       "      <td>4</td>\n",
       "      <td>2.00</td>\n",
       "      <td>1.25</td>\n",
       "      <td>1</td>\n",
       "      <td>1</td>\n",
       "      <td>1</td>\n",
       "      <td>42</td>\n",
       "      <td>1</td>\n",
       "      <td>...</td>\n",
       "      <td>9</td>\n",
       "      <td>3</td>\n",
       "      <td>0</td>\n",
       "      <td>94.810000</td>\n",
       "      <td>101.13</td>\n",
       "      <td>3.0</td>\n",
       "      <td>2.0</td>\n",
       "      <td>2.0</td>\n",
       "      <td>0.0</td>\n",
       "      <td>0</td>\n",
       "    </tr>\n",
       "    <tr>\n",
       "      <th>2</th>\n",
       "      <td>2</td>\n",
       "      <td>1.83</td>\n",
       "      <td>3</td>\n",
       "      <td>1.83</td>\n",
       "      <td>1.50</td>\n",
       "      <td>1</td>\n",
       "      <td>1</td>\n",
       "      <td>1</td>\n",
       "      <td>41</td>\n",
       "      <td>1</td>\n",
       "      <td>...</td>\n",
       "      <td>0</td>\n",
       "      <td>6</td>\n",
       "      <td>0</td>\n",
       "      <td>72.820000</td>\n",
       "      <td>71.30</td>\n",
       "      <td>0.0</td>\n",
       "      <td>3.0</td>\n",
       "      <td>3.0</td>\n",
       "      <td>1.0</td>\n",
       "      <td>0</td>\n",
       "    </tr>\n",
       "    <tr>\n",
       "      <th>3</th>\n",
       "      <td>2</td>\n",
       "      <td>7.92</td>\n",
       "      <td>4</td>\n",
       "      <td>4.00</td>\n",
       "      <td>0.17</td>\n",
       "      <td>1</td>\n",
       "      <td>1</td>\n",
       "      <td>1</td>\n",
       "      <td>37</td>\n",
       "      <td>1</td>\n",
       "      <td>...</td>\n",
       "      <td>0</td>\n",
       "      <td>3</td>\n",
       "      <td>0</td>\n",
       "      <td>86.890000</td>\n",
       "      <td>90.09</td>\n",
       "      <td>2.0</td>\n",
       "      <td>2.0</td>\n",
       "      <td>2.0</td>\n",
       "      <td>1.0</td>\n",
       "      <td>0</td>\n",
       "    </tr>\n",
       "    <tr>\n",
       "      <th>4</th>\n",
       "      <td>2</td>\n",
       "      <td>1.75</td>\n",
       "      <td>3</td>\n",
       "      <td>1.75</td>\n",
       "      <td>1.33</td>\n",
       "      <td>2</td>\n",
       "      <td>1</td>\n",
       "      <td>1</td>\n",
       "      <td>35</td>\n",
       "      <td>0</td>\n",
       "      <td>...</td>\n",
       "      <td>0</td>\n",
       "      <td>0</td>\n",
       "      <td>2</td>\n",
       "      <td>66.816667</td>\n",
       "      <td>70.43</td>\n",
       "      <td>0.0</td>\n",
       "      <td>2.0</td>\n",
       "      <td>2.0</td>\n",
       "      <td>0.0</td>\n",
       "      <td>1</td>\n",
       "    </tr>\n",
       "  </tbody>\n",
       "</table>\n",
       "<p>5 rows × 30 columns</p>\n",
       "</div>"
      ],
      "text/plain": [
       "   job_level  job_duration_in_current_job_level  person_level  \\\n",
       "0          3                               8.00             6   \n",
       "1          2                               5.17             4   \n",
       "2          2                               1.83             3   \n",
       "3          2                               7.92             4   \n",
       "4          2                               1.75             3   \n",
       "\n",
       "   job_duration_in_current_person_level  job_duration_in_current_branch  \\\n",
       "0                                  8.00                            0.50   \n",
       "1                                  2.00                            1.25   \n",
       "2                                  1.83                            1.50   \n",
       "3                                  4.00                            0.17   \n",
       "4                                  1.75                            1.33   \n",
       "\n",
       "   Employee_type  Employee_status  gender  age  marital_status_maried(Y/N)  \\\n",
       "0              1                1       1   57                           1   \n",
       "1              1                1       1   42                           1   \n",
       "2              1                1       1   41                           1   \n",
       "3              1                1       1   37                           1   \n",
       "4              2                1       1   35                           0   \n",
       "\n",
       "   ...  assign_of_otherposition  annual leave  sick_leaves  Avg_achievement_%  \\\n",
       "0  ...                        0             8            0          68.850000   \n",
       "1  ...                        9             3            0          94.810000   \n",
       "2  ...                        0             6            0          72.820000   \n",
       "3  ...                        0             3            0          86.890000   \n",
       "4  ...                        0             0            2          66.816667   \n",
       "\n",
       "   Last_achievement_%  Achievement_above_100%_during3quartal  \\\n",
       "0               72.53                                    0.0   \n",
       "1              101.13                                    3.0   \n",
       "2               71.30                                    0.0   \n",
       "3               90.09                                    2.0   \n",
       "4               70.43                                    0.0   \n",
       "\n",
       "   achievement_target_1  achievement_target_2  achievement_target_3  \\\n",
       "0                   2.0                   2.0                   0.0   \n",
       "1                   2.0                   2.0                   0.0   \n",
       "2                   3.0                   3.0                   1.0   \n",
       "3                   2.0                   2.0                   1.0   \n",
       "4                   2.0                   2.0                   0.0   \n",
       "\n",
       "   Best Performance  \n",
       "0                 0  \n",
       "1                 0  \n",
       "2                 0  \n",
       "3                 0  \n",
       "4                 1  \n",
       "\n",
       "[5 rows x 30 columns]"
      ]
     },
     "execution_count": 21,
     "metadata": {},
     "output_type": "execute_result"
    }
   ],
   "source": [
    "oversampling = SMOTE()\n",
    "X_train_balance, y_train_balance = oversampling.fit_resample(X=train[col_x], y=train['Best Performance'])\n",
    "\n",
    "train = pd.DataFrame(columns=col_x, data=X_train_balance)\n",
    "\n",
    "train['Best Performance'] = y_train_balance\n",
    "\n",
    "train.head()"
   ]
  },
  {
   "cell_type": "markdown",
   "metadata": {},
   "source": [
    "setelah proses oversampling dapat terlihat bahwa label kelas seimbang dan secara ukuran data bertambah dari 11280 ke 19262 baris data"
   ]
  },
  {
   "cell_type": "code",
   "execution_count": 22,
   "metadata": {},
   "outputs": [
    {
     "data": {
      "text/plain": [
       "(19262, 30)"
      ]
     },
     "execution_count": 22,
     "metadata": {},
     "output_type": "execute_result"
    }
   ],
   "source": [
    "train.shape"
   ]
  },
  {
   "cell_type": "code",
   "execution_count": 23,
   "metadata": {},
   "outputs": [
    {
     "data": {
      "text/plain": [
       "Best Performance\n",
       "0    9631\n",
       "1    9631\n",
       "Name: count, dtype: int64"
      ]
     },
     "execution_count": 23,
     "metadata": {},
     "output_type": "execute_result"
    }
   ],
   "source": [
    "train['Best Performance'].value_counts()"
   ]
  },
  {
   "cell_type": "code",
   "execution_count": 24,
   "metadata": {},
   "outputs": [
    {
     "data": {
      "text/plain": [
       "<matplotlib.legend.Legend at 0x26f7fd7c650>"
      ]
     },
     "execution_count": 24,
     "metadata": {},
     "output_type": "execute_result"
    },
    {
     "data": {
      "image/png": "[encoded data removed]",
      "text/plain": [
       "<Figure size 640x480 with 1 Axes>"
      ]
     },
     "metadata": {},
     "output_type": "display_data"
    }
   ],
   "source": [
    "# Check class balanced\n",
    "sns.countplot(train, x='Best Performance', hue='Best Performance')\n",
    "\n",
    "plt.legend(['Not Best Performance', 'Best Performance'])"
   ]
  },
  {
   "cell_type": "code",
   "execution_count": 25,
   "metadata": {},
   "outputs": [
    {
     "data": {
      "text/html": [
       "<div>\n",
       "<style scoped>\n",
       "    .dataframe tbody tr th:only-of-type {\n",
       "        vertical-align: middle;\n",
       "    }\n",
       "\n",
       "    .dataframe tbody tr th {\n",
       "        vertical-align: top;\n",
       "    }\n",
       "\n",
       "    .dataframe thead th {\n",
       "        text-align: right;\n",
       "    }\n",
       "</style>\n",
       "<table border=\"1\" class=\"dataframe\">\n",
       "  <thead>\n",
       "    <tr style=\"text-align: right;\">\n",
       "      <th></th>\n",
       "      <th>job_level</th>\n",
       "      <th>job_duration_in_current_job_level</th>\n",
       "      <th>person_level</th>\n",
       "      <th>job_duration_in_current_person_level</th>\n",
       "      <th>job_duration_in_current_branch</th>\n",
       "      <th>Employee_type</th>\n",
       "      <th>Employee_status</th>\n",
       "      <th>gender</th>\n",
       "      <th>age</th>\n",
       "      <th>marital_status_maried(Y/N)</th>\n",
       "      <th>...</th>\n",
       "      <th>job_rotation</th>\n",
       "      <th>assign_of_otherposition</th>\n",
       "      <th>annual leave</th>\n",
       "      <th>sick_leaves</th>\n",
       "      <th>Avg_achievement_%</th>\n",
       "      <th>Last_achievement_%</th>\n",
       "      <th>Achievement_above_100%_during3quartal</th>\n",
       "      <th>achievement_target_1</th>\n",
       "      <th>achievement_target_2</th>\n",
       "      <th>achievement_target_3</th>\n",
       "    </tr>\n",
       "  </thead>\n",
       "  <tbody>\n",
       "    <tr>\n",
       "      <th>0</th>\n",
       "      <td>3.786173</td>\n",
       "      <td>3.639489</td>\n",
       "      <td>4.129932</td>\n",
       "      <td>6.368231</td>\n",
       "      <td>-0.820122</td>\n",
       "      <td>-0.689543</td>\n",
       "      <td>0.0</td>\n",
       "      <td>0.0</td>\n",
       "      <td>4.895147</td>\n",
       "      <td>0.415693</td>\n",
       "      <td>...</td>\n",
       "      <td>1.937877</td>\n",
       "      <td>-0.462426</td>\n",
       "      <td>1.652975</td>\n",
       "      <td>-0.363473</td>\n",
       "      <td>0.086937</td>\n",
       "      <td>0.015017</td>\n",
       "      <td>-0.615098</td>\n",
       "      <td>-0.139834</td>\n",
       "      <td>-0.139834</td>\n",
       "      <td>-0.629729</td>\n",
       "    </tr>\n",
       "    <tr>\n",
       "      <th>1</th>\n",
       "      <td>-0.238331</td>\n",
       "      <td>1.861410</td>\n",
       "      <td>1.157962</td>\n",
       "      <td>0.092376</td>\n",
       "      <td>0.014683</td>\n",
       "      <td>-0.689543</td>\n",
       "      <td>0.0</td>\n",
       "      <td>0.0</td>\n",
       "      <td>1.549647</td>\n",
       "      <td>0.415693</td>\n",
       "      <td>...</td>\n",
       "      <td>1.937877</td>\n",
       "      <td>3.045418</td>\n",
       "      <td>-0.244676</td>\n",
       "      <td>-0.363473</td>\n",
       "      <td>1.244375</td>\n",
       "      <td>1.266278</td>\n",
       "      <td>2.091772</td>\n",
       "      <td>-0.139834</td>\n",
       "      <td>-0.139834</td>\n",
       "      <td>-0.629729</td>\n",
       "    </tr>\n",
       "    <tr>\n",
       "      <th>2</th>\n",
       "      <td>-0.238331</td>\n",
       "      <td>-0.237099</td>\n",
       "      <td>-0.328023</td>\n",
       "      <td>-0.085440</td>\n",
       "      <td>0.292951</td>\n",
       "      <td>-0.689543</td>\n",
       "      <td>0.0</td>\n",
       "      <td>0.0</td>\n",
       "      <td>1.326614</td>\n",
       "      <td>0.415693</td>\n",
       "      <td>...</td>\n",
       "      <td>3.039459</td>\n",
       "      <td>-0.462426</td>\n",
       "      <td>0.893915</td>\n",
       "      <td>-0.363473</td>\n",
       "      <td>0.263941</td>\n",
       "      <td>-0.038796</td>\n",
       "      <td>-0.615098</td>\n",
       "      <td>1.219932</td>\n",
       "      <td>1.219932</td>\n",
       "      <td>1.587986</td>\n",
       "    </tr>\n",
       "    <tr>\n",
       "      <th>3</th>\n",
       "      <td>-0.238331</td>\n",
       "      <td>3.589225</td>\n",
       "      <td>1.157962</td>\n",
       "      <td>2.184328</td>\n",
       "      <td>-1.187436</td>\n",
       "      <td>-0.689543</td>\n",
       "      <td>0.0</td>\n",
       "      <td>0.0</td>\n",
       "      <td>0.434480</td>\n",
       "      <td>0.415693</td>\n",
       "      <td>...</td>\n",
       "      <td>0.836294</td>\n",
       "      <td>-0.462426</td>\n",
       "      <td>-0.244676</td>\n",
       "      <td>-0.363473</td>\n",
       "      <td>0.891259</td>\n",
       "      <td>0.783274</td>\n",
       "      <td>1.189482</td>\n",
       "      <td>-0.139834</td>\n",
       "      <td>-0.139834</td>\n",
       "      <td>1.587986</td>\n",
       "    </tr>\n",
       "    <tr>\n",
       "      <th>4</th>\n",
       "      <td>-0.238331</td>\n",
       "      <td>-0.287363</td>\n",
       "      <td>-0.328023</td>\n",
       "      <td>-0.169118</td>\n",
       "      <td>0.103729</td>\n",
       "      <td>1.047016</td>\n",
       "      <td>0.0</td>\n",
       "      <td>0.0</td>\n",
       "      <td>-0.011587</td>\n",
       "      <td>-2.405619</td>\n",
       "      <td>...</td>\n",
       "      <td>0.836294</td>\n",
       "      <td>-0.462426</td>\n",
       "      <td>-1.383266</td>\n",
       "      <td>0.269581</td>\n",
       "      <td>-0.003720</td>\n",
       "      <td>-0.076859</td>\n",
       "      <td>-0.615098</td>\n",
       "      <td>-0.139834</td>\n",
       "      <td>-0.139834</td>\n",
       "      <td>-0.629729</td>\n",
       "    </tr>\n",
       "  </tbody>\n",
       "</table>\n",
       "<p>5 rows × 29 columns</p>\n",
       "</div>"
      ],
      "text/plain": [
       "   job_level  job_duration_in_current_job_level  person_level  \\\n",
       "0   3.786173                           3.639489      4.129932   \n",
       "1  -0.238331                           1.861410      1.157962   \n",
       "2  -0.238331                          -0.237099     -0.328023   \n",
       "3  -0.238331                           3.589225      1.157962   \n",
       "4  -0.238331                          -0.287363     -0.328023   \n",
       "\n",
       "   job_duration_in_current_person_level  job_duration_in_current_branch  \\\n",
       "0                              6.368231                       -0.820122   \n",
       "1                              0.092376                        0.014683   \n",
       "2                             -0.085440                        0.292951   \n",
       "3                              2.184328                       -1.187436   \n",
       "4                             -0.169118                        0.103729   \n",
       "\n",
       "   Employee_type  Employee_status  gender       age  \\\n",
       "0      -0.689543              0.0     0.0  4.895147   \n",
       "1      -0.689543              0.0     0.0  1.549647   \n",
       "2      -0.689543              0.0     0.0  1.326614   \n",
       "3      -0.689543              0.0     0.0  0.434480   \n",
       "4       1.047016              0.0     0.0 -0.011587   \n",
       "\n",
       "   marital_status_maried(Y/N)  ...  job_rotation  assign_of_otherposition  \\\n",
       "0                    0.415693  ...      1.937877                -0.462426   \n",
       "1                    0.415693  ...      1.937877                 3.045418   \n",
       "2                    0.415693  ...      3.039459                -0.462426   \n",
       "3                    0.415693  ...      0.836294                -0.462426   \n",
       "4                   -2.405619  ...      0.836294                -0.462426   \n",
       "\n",
       "   annual leave  sick_leaves  Avg_achievement_%  Last_achievement_%  \\\n",
       "0      1.652975    -0.363473           0.086937            0.015017   \n",
       "1     -0.244676    -0.363473           1.244375            1.266278   \n",
       "2      0.893915    -0.363473           0.263941           -0.038796   \n",
       "3     -0.244676    -0.363473           0.891259            0.783274   \n",
       "4     -1.383266     0.269581          -0.003720           -0.076859   \n",
       "\n",
       "   Achievement_above_100%_during3quartal  achievement_target_1  \\\n",
       "0                              -0.615098             -0.139834   \n",
       "1                               2.091772             -0.139834   \n",
       "2                              -0.615098              1.219932   \n",
       "3                               1.189482             -0.139834   \n",
       "4                              -0.615098             -0.139834   \n",
       "\n",
       "   achievement_target_2  achievement_target_3  \n",
       "0             -0.139834             -0.629729  \n",
       "1             -0.139834             -0.629729  \n",
       "2              1.219932              1.587986  \n",
       "3             -0.139834              1.587986  \n",
       "4             -0.139834             -0.629729  \n",
       "\n",
       "[5 rows x 29 columns]"
      ]
     },
     "execution_count": 25,
     "metadata": {},
     "output_type": "execute_result"
    }
   ],
   "source": [
    "train_df.head()"
   ]
  },
  {
   "cell_type": "code",
   "execution_count": 26,
   "metadata": {},
   "outputs": [],
   "source": [
    "def roc_auc_curve(clf, X, y):\n",
    "    pred_proba = clf.predict_proba(X)[:,1]\n",
    "\n",
    "    fpr, tpr, _ = roc_curve(y, pred_proba)\n",
    "\n",
    "    return fpr, tpr"
   ]
  },
  {
   "cell_type": "markdown",
   "metadata": {},
   "source": [
    "#### Fitur\n",
    "Pada bagian ini, X adalah prediktor dan y adalah kelas label"
   ]
  },
  {
   "cell_type": "code",
   "execution_count": 27,
   "metadata": {},
   "outputs": [
    {
     "name": "stdout",
     "output_type": "stream",
     "text": [
      "(19262, 29)\n"
     ]
    }
   ],
   "source": [
    "X_train = train[col_x] \n",
    "y_train = train['Best Performance']\n",
    "\n",
    "print(X_train.shape)"
   ]
  },
  {
   "cell_type": "markdown",
   "metadata": {},
   "source": [
    "Bagi data menjadi x dan y training serta x dan y untuk testing. Komposisinya adalah training:testing yaitu 70:30"
   ]
  },
  {
   "cell_type": "code",
   "execution_count": 28,
   "metadata": {},
   "outputs": [
    {
     "name": "stdout",
     "output_type": "stream",
     "text": [
      "Train feature: (13483, 29)\n",
      "Test feature: (5779, 29)\n"
     ]
    }
   ],
   "source": [
    "X_train, X_test, y_train, y_test = train_test_split(X_train, y_train, test_size=0.3, random_state=None)\n",
    "\n",
    "print('Train feature:', X_train.shape)\n",
    "print('Test feature:', X_test.shape)"
   ]
  },
  {
   "cell_type": "markdown",
   "metadata": {},
   "source": [
    "#### Training Model\n",
    "Model dibangun dengan menerapkan algoritma Random Forest, Light Gradient Boosting, dan Naive Bayes. Parameter yang digunakan secara default <br>\n",
    "Untuk mendapatkan fitur yang paling berpengaruh dalam prediksi, digunakan Random Forest dan Light Gradient Boosting feature importance."
   ]
  },
  {
   "cell_type": "code",
   "execution_count": 29,
   "metadata": {},
   "outputs": [
    {
     "data": {
      "text/html": [
       "<style>#sk-container-id-1 {color: black;background-color: white;}#sk-container-id-1 pre{padding: 0;}#sk-container-id-1 div.sk-toggleable {background-color: white;}#sk-container-id-1 label.sk-toggleable__label {cursor: pointer;display: block;width: 100%;margin-bottom: 0;padding: 0.3em;box-sizing: border-box;text-align: center;}#sk-container-id-1 label.sk-toggleable__label-arrow:before {content: \"▸\";float: left;margin-right: 0.25em;color: #696969;}#sk-container-id-1 label.sk-toggleable__label-arrow:hover:before {color: black;}#sk-container-id-1 div.sk-estimator:hover label.sk-toggleable__label-arrow:before {color: black;}#sk-container-id-1 div.sk-toggleable__content {max-height: 0;max-width: 0;overflow: hidden;text-align: left;background-color: #f0f8ff;}#sk-container-id-1 div.sk-toggleable__content pre {margin: 0.2em;color: black;border-radius: 0.25em;background-color: #f0f8ff;}#sk-container-id-1 input.sk-toggleable__control:checked~div.sk-toggleable__content {max-height: 200px;max-width: 100%;overflow: auto;}#sk-container-id-1 input.sk-toggleable__control:checked~label.sk-toggleable__label-arrow:before {content: \"▾\";}#sk-container-id-1 div.sk-estimator input.sk-toggleable__control:checked~label.sk-toggleable__label {background-color: #d4ebff;}#sk-container-id-1 div.sk-label input.sk-toggleable__control:checked~label.sk-toggleable__label {background-color: #d4ebff;}#sk-container-id-1 input.sk-hidden--visually {border: 0;clip: rect(1px 1px 1px 1px);clip: rect(1px, 1px, 1px, 1px);height: 1px;margin: -1px;overflow: hidden;padding: 0;position: absolute;width: 1px;}#sk-container-id-1 div.sk-estimator {font-family: monospace;background-color: #f0f8ff;border: 1px dotted black;border-radius: 0.25em;box-sizing: border-box;margin-bottom: 0.5em;}#sk-container-id-1 div.sk-estimator:hover {background-color: #d4ebff;}#sk-container-id-1 div.sk-parallel-item::after {content: \"\";width: 100%;border-bottom: 1px solid gray;flex-grow: 1;}#sk-container-id-1 div.sk-label:hover label.sk-toggleable__label {background-color: #d4ebff;}#sk-container-id-1 div.sk-serial::before {content: \"\";position: absolute;border-left: 1px solid gray;box-sizing: border-box;top: 0;bottom: 0;left: 50%;z-index: 0;}#sk-container-id-1 div.sk-serial {display: flex;flex-direction: column;align-items: center;background-color: white;padding-right: 0.2em;padding-left: 0.2em;position: relative;}#sk-container-id-1 div.sk-item {position: relative;z-index: 1;}#sk-container-id-1 div.sk-parallel {display: flex;align-items: stretch;justify-content: center;background-color: white;position: relative;}#sk-container-id-1 div.sk-item::before, #sk-container-id-1 div.sk-parallel-item::before {content: \"\";position: absolute;border-left: 1px solid gray;box-sizing: border-box;top: 0;bottom: 0;left: 50%;z-index: -1;}#sk-container-id-1 div.sk-parallel-item {display: flex;flex-direction: column;z-index: 1;position: relative;background-color: white;}#sk-container-id-1 div.sk-parallel-item:first-child::after {align-self: flex-end;width: 50%;}#sk-container-id-1 div.sk-parallel-item:last-child::after {align-self: flex-start;width: 50%;}#sk-container-id-1 div.sk-parallel-item:only-child::after {width: 0;}#sk-container-id-1 div.sk-dashed-wrapped {border: 1px dashed gray;margin: 0 0.4em 0.5em 0.4em;box-sizing: border-box;padding-bottom: 0.4em;background-color: white;}#sk-container-id-1 div.sk-label label {font-family: monospace;font-weight: bold;display: inline-block;line-height: 1.2em;}#sk-container-id-1 div.sk-label-container {text-align: center;}#sk-container-id-1 div.sk-container {/* jupyter's `normalize.less` sets `[hidden] { display: none; }` but bootstrap.min.css set `[hidden] { display: none !important; }` so we also need the `!important` here to be able to override the default hidden behavior on the sphinx rendered scikit-learn.org. See: https://github.com/scikit-learn/scikit-learn/issues/21755 */display: inline-block !important;position: relative;}#sk-container-id-1 div.sk-text-repr-fallback {display: none;}</style><div id=\"sk-container-id-1\" class=\"sk-top-container\"><div class=\"sk-text-repr-fallback\"><pre>RandomForestClassifier(random_state=0)</pre><b>In a Jupyter environment, please rerun this cell to show the HTML representation or trust the notebook. <br />On GitHub, the HTML representation is unable to render, please try loading this page with nbviewer.org.</b></div><div class=\"sk-container\" hidden><div class=\"sk-item\"><div class=\"sk-estimator sk-toggleable\"><input class=\"sk-toggleable__control sk-hidden--visually\" id=\"sk-estimator-id-1\" type=\"checkbox\" checked><label for=\"sk-estimator-id-1\" class=\"sk-toggleable__label sk-toggleable__label-arrow\">RandomForestClassifier</label><div class=\"sk-toggleable__content\"><pre>RandomForestClassifier(random_state=0)</pre></div></div></div></div></div>"
      ],
      "text/plain": [
       "RandomForestClassifier(random_state=0)"
      ]
     },
     "execution_count": 29,
     "metadata": {},
     "output_type": "execute_result"
    }
   ],
   "source": [
    "# Random Forest\n",
    "clf_rf = RandomForestClassifier(random_state=0)\n",
    "\n",
    "clf_rf.fit(X_train, y_train)"
   ]
  },
  {
   "cell_type": "code",
   "execution_count": 30,
   "metadata": {},
   "outputs": [
    {
     "name": "stdout",
     "output_type": "stream",
     "text": [
      "[LightGBM] [Warning] Found whitespace in feature_names, replace with underlines\n",
      "[LightGBM] [Info] Number of positive: 6720, number of negative: 6763\n",
      "[LightGBM] [Info] Auto-choosing row-wise multi-threading, the overhead of testing was 0.001170 seconds.\n",
      "You can set `force_row_wise=true` to remove the overhead.\n",
      "And if memory is not enough, you can set `force_col_wise=true`.\n",
      "[LightGBM] [Info] Total Bins 3053\n",
      "[LightGBM] [Info] Number of data points in the train set: 13483, number of used features: 27\n",
      "[LightGBM] [Info] [binary:BoostFromScore]: pavg=0.498405 -> initscore=-0.006378\n",
      "[LightGBM] [Info] Start training from score -0.006378\n"
     ]
    },
    {
     "data": {
      "text/html": [
       "<style>#sk-container-id-2 {color: black;background-color: white;}#sk-container-id-2 pre{padding: 0;}#sk-container-id-2 div.sk-toggleable {background-color: white;}#sk-container-id-2 label.sk-toggleable__label {cursor: pointer;display: block;width: 100%;margin-bottom: 0;padding: 0.3em;box-sizing: border-box;text-align: center;}#sk-container-id-2 label.sk-toggleable__label-arrow:before {content: \"▸\";float: left;margin-right: 0.25em;color: #696969;}#sk-container-id-2 label.sk-toggleable__label-arrow:hover:before {color: black;}#sk-container-id-2 div.sk-estimator:hover label.sk-toggleable__label-arrow:before {color: black;}#sk-container-id-2 div.sk-toggleable__content {max-height: 0;max-width: 0;overflow: hidden;text-align: left;background-color: #f0f8ff;}#sk-container-id-2 div.sk-toggleable__content pre {margin: 0.2em;color: black;border-radius: 0.25em;background-color: #f0f8ff;}#sk-container-id-2 input.sk-toggleable__control:checked~div.sk-toggleable__content {max-height: 200px;max-width: 100%;overflow: auto;}#sk-container-id-2 input.sk-toggleable__control:checked~label.sk-toggleable__label-arrow:before {content: \"▾\";}#sk-container-id-2 div.sk-estimator input.sk-toggleable__control:checked~label.sk-toggleable__label {background-color: #d4ebff;}#sk-container-id-2 div.sk-label input.sk-toggleable__control:checked~label.sk-toggleable__label {background-color: #d4ebff;}#sk-container-id-2 input.sk-hidden--visually {border: 0;clip: rect(1px 1px 1px 1px);clip: rect(1px, 1px, 1px, 1px);height: 1px;margin: -1px;overflow: hidden;padding: 0;position: absolute;width: 1px;}#sk-container-id-2 div.sk-estimator {font-family: monospace;background-color: #f0f8ff;border: 1px dotted black;border-radius: 0.25em;box-sizing: border-box;margin-bottom: 0.5em;}#sk-container-id-2 div.sk-estimator:hover {background-color: #d4ebff;}#sk-container-id-2 div.sk-parallel-item::after {content: \"\";width: 100%;border-bottom: 1px solid gray;flex-grow: 1;}#sk-container-id-2 div.sk-label:hover label.sk-toggleable__label {background-color: #d4ebff;}#sk-container-id-2 div.sk-serial::before {content: \"\";position: absolute;border-left: 1px solid gray;box-sizing: border-box;top: 0;bottom: 0;left: 50%;z-index: 0;}#sk-container-id-2 div.sk-serial {display: flex;flex-direction: column;align-items: center;background-color: white;padding-right: 0.2em;padding-left: 0.2em;position: relative;}#sk-container-id-2 div.sk-item {position: relative;z-index: 1;}#sk-container-id-2 div.sk-parallel {display: flex;align-items: stretch;justify-content: center;background-color: white;position: relative;}#sk-container-id-2 div.sk-item::before, #sk-container-id-2 div.sk-parallel-item::before {content: \"\";position: absolute;border-left: 1px solid gray;box-sizing: border-box;top: 0;bottom: 0;left: 50%;z-index: -1;}#sk-container-id-2 div.sk-parallel-item {display: flex;flex-direction: column;z-index: 1;position: relative;background-color: white;}#sk-container-id-2 div.sk-parallel-item:first-child::after {align-self: flex-end;width: 50%;}#sk-container-id-2 div.sk-parallel-item:last-child::after {align-self: flex-start;width: 50%;}#sk-container-id-2 div.sk-parallel-item:only-child::after {width: 0;}#sk-container-id-2 div.sk-dashed-wrapped {border: 1px dashed gray;margin: 0 0.4em 0.5em 0.4em;box-sizing: border-box;padding-bottom: 0.4em;background-color: white;}#sk-container-id-2 div.sk-label label {font-family: monospace;font-weight: bold;display: inline-block;line-height: 1.2em;}#sk-container-id-2 div.sk-label-container {text-align: center;}#sk-container-id-2 div.sk-container {/* jupyter's `normalize.less` sets `[hidden] { display: none; }` but bootstrap.min.css set `[hidden] { display: none !important; }` so we also need the `!important` here to be able to override the default hidden behavior on the sphinx rendered scikit-learn.org. See: https://github.com/scikit-learn/scikit-learn/issues/21755 */display: inline-block !important;position: relative;}#sk-container-id-2 div.sk-text-repr-fallback {display: none;}</style><div id=\"sk-container-id-2\" class=\"sk-top-container\"><div class=\"sk-text-repr-fallback\"><pre>LGBMClassifier(random_state=0)</pre><b>In a Jupyter environment, please rerun this cell to show the HTML representation or trust the notebook. <br />On GitHub, the HTML representation is unable to render, please try loading this page with nbviewer.org.</b></div><div class=\"sk-container\" hidden><div class=\"sk-item\"><div class=\"sk-estimator sk-toggleable\"><input class=\"sk-toggleable__control sk-hidden--visually\" id=\"sk-estimator-id-2\" type=\"checkbox\" checked><label for=\"sk-estimator-id-2\" class=\"sk-toggleable__label sk-toggleable__label-arrow\">LGBMClassifier</label><div class=\"sk-toggleable__content\"><pre>LGBMClassifier(random_state=0)</pre></div></div></div></div></div>"
      ],
      "text/plain": [
       "LGBMClassifier(random_state=0)"
      ]
     },
     "execution_count": 30,
     "metadata": {},
     "output_type": "execute_result"
    }
   ],
   "source": [
    "# Light Gradient Boosting\n",
    "clf_lgbm = LGBMClassifier(random_state=0)\n",
    "\n",
    "clf_lgbm.fit(X_train, y_train)"
   ]
  },
  {
   "cell_type": "code",
   "execution_count": 31,
   "metadata": {},
   "outputs": [
    {
     "data": {
      "text/html": [
       "<style>#sk-container-id-3 {color: black;background-color: white;}#sk-container-id-3 pre{padding: 0;}#sk-container-id-3 div.sk-toggleable {background-color: white;}#sk-container-id-3 label.sk-toggleable__label {cursor: pointer;display: block;width: 100%;margin-bottom: 0;padding: 0.3em;box-sizing: border-box;text-align: center;}#sk-container-id-3 label.sk-toggleable__label-arrow:before {content: \"▸\";float: left;margin-right: 0.25em;color: #696969;}#sk-container-id-3 label.sk-toggleable__label-arrow:hover:before {color: black;}#sk-container-id-3 div.sk-estimator:hover label.sk-toggleable__label-arrow:before {color: black;}#sk-container-id-3 div.sk-toggleable__content {max-height: 0;max-width: 0;overflow: hidden;text-align: left;background-color: #f0f8ff;}#sk-container-id-3 div.sk-toggleable__content pre {margin: 0.2em;color: black;border-radius: 0.25em;background-color: #f0f8ff;}#sk-container-id-3 input.sk-toggleable__control:checked~div.sk-toggleable__content {max-height: 200px;max-width: 100%;overflow: auto;}#sk-container-id-3 input.sk-toggleable__control:checked~label.sk-toggleable__label-arrow:before {content: \"▾\";}#sk-container-id-3 div.sk-estimator input.sk-toggleable__control:checked~label.sk-toggleable__label {background-color: #d4ebff;}#sk-container-id-3 div.sk-label input.sk-toggleable__control:checked~label.sk-toggleable__label {background-color: #d4ebff;}#sk-container-id-3 input.sk-hidden--visually {border: 0;clip: rect(1px 1px 1px 1px);clip: rect(1px, 1px, 1px, 1px);height: 1px;margin: -1px;overflow: hidden;padding: 0;position: absolute;width: 1px;}#sk-container-id-3 div.sk-estimator {font-family: monospace;background-color: #f0f8ff;border: 1px dotted black;border-radius: 0.25em;box-sizing: border-box;margin-bottom: 0.5em;}#sk-container-id-3 div.sk-estimator:hover {background-color: #d4ebff;}#sk-container-id-3 div.sk-parallel-item::after {content: \"\";width: 100%;border-bottom: 1px solid gray;flex-grow: 1;}#sk-container-id-3 div.sk-label:hover label.sk-toggleable__label {background-color: #d4ebff;}#sk-container-id-3 div.sk-serial::before {content: \"\";position: absolute;border-left: 1px solid gray;box-sizing: border-box;top: 0;bottom: 0;left: 50%;z-index: 0;}#sk-container-id-3 div.sk-serial {display: flex;flex-direction: column;align-items: center;background-color: white;padding-right: 0.2em;padding-left: 0.2em;position: relative;}#sk-container-id-3 div.sk-item {position: relative;z-index: 1;}#sk-container-id-3 div.sk-parallel {display: flex;align-items: stretch;justify-content: center;background-color: white;position: relative;}#sk-container-id-3 div.sk-item::before, #sk-container-id-3 div.sk-parallel-item::before {content: \"\";position: absolute;border-left: 1px solid gray;box-sizing: border-box;top: 0;bottom: 0;left: 50%;z-index: -1;}#sk-container-id-3 div.sk-parallel-item {display: flex;flex-direction: column;z-index: 1;position: relative;background-color: white;}#sk-container-id-3 div.sk-parallel-item:first-child::after {align-self: flex-end;width: 50%;}#sk-container-id-3 div.sk-parallel-item:last-child::after {align-self: flex-start;width: 50%;}#sk-container-id-3 div.sk-parallel-item:only-child::after {width: 0;}#sk-container-id-3 div.sk-dashed-wrapped {border: 1px dashed gray;margin: 0 0.4em 0.5em 0.4em;box-sizing: border-box;padding-bottom: 0.4em;background-color: white;}#sk-container-id-3 div.sk-label label {font-family: monospace;font-weight: bold;display: inline-block;line-height: 1.2em;}#sk-container-id-3 div.sk-label-container {text-align: center;}#sk-container-id-3 div.sk-container {/* jupyter's `normalize.less` sets `[hidden] { display: none; }` but bootstrap.min.css set `[hidden] { display: none !important; }` so we also need the `!important` here to be able to override the default hidden behavior on the sphinx rendered scikit-learn.org. See: https://github.com/scikit-learn/scikit-learn/issues/21755 */display: inline-block !important;position: relative;}#sk-container-id-3 div.sk-text-repr-fallback {display: none;}</style><div id=\"sk-container-id-3\" class=\"sk-top-container\"><div class=\"sk-text-repr-fallback\"><pre>GaussianNB()</pre><b>In a Jupyter environment, please rerun this cell to show the HTML representation or trust the notebook. <br />On GitHub, the HTML representation is unable to render, please try loading this page with nbviewer.org.</b></div><div class=\"sk-container\" hidden><div class=\"sk-item\"><div class=\"sk-estimator sk-toggleable\"><input class=\"sk-toggleable__control sk-hidden--visually\" id=\"sk-estimator-id-3\" type=\"checkbox\" checked><label for=\"sk-estimator-id-3\" class=\"sk-toggleable__label sk-toggleable__label-arrow\">GaussianNB</label><div class=\"sk-toggleable__content\"><pre>GaussianNB()</pre></div></div></div></div></div>"
      ],
      "text/plain": [
       "GaussianNB()"
      ]
     },
     "execution_count": 31,
     "metadata": {},
     "output_type": "execute_result"
    }
   ],
   "source": [
    "# Naive Bayes\n",
    "clf_nb = GaussianNB()\n",
    "\n",
    "clf_nb.fit(X_train, y_train)"
   ]
  },
  {
   "cell_type": "markdown",
   "metadata": {},
   "source": [
    "#### Prediksi Testing (Random Forest)"
   ]
  },
  {
   "cell_type": "code",
   "execution_count": 32,
   "metadata": {},
   "outputs": [],
   "source": [
    "# Melakukan prediksi berdasarkan probabilitas\n",
    "y_pred_rf = clf_rf.predict_proba(X_test)[:,1]"
   ]
  },
  {
   "cell_type": "code",
   "execution_count": 33,
   "metadata": {},
   "outputs": [
    {
     "name": "stdout",
     "output_type": "stream",
     "text": [
      "Mean ROC-AUC score Random Forest (RF): 0.9258642011704354\n"
     ]
    }
   ],
   "source": [
    "score = roc_auc_score(y_test, y_pred_rf)\n",
    "\n",
    "# Lakukan cross validation sebanyak 10 kali\n",
    "mean_score = cross_val_score(clf_rf, X_test, y_test, cv=10, scoring='roc_auc')\n",
    "\n",
    "# Nilai rata-rata auc score\n",
    "print('Mean ROC-AUC score Random Forest (RF):', np.mean(mean_score))"
   ]
  },
  {
   "cell_type": "code",
   "execution_count": 34,
   "metadata": {},
   "outputs": [
    {
     "name": "stdout",
     "output_type": "stream",
     "text": [
      "Best threshold: 0.48\n"
     ]
    }
   ],
   "source": [
    "# Perhitungan threshold untuk memprediksi label\n",
    "fpr_rf, tpr_rf, threshold = roc_curve(y_test, y_pred_rf)\n",
    "\n",
    "J = tpr_rf - fpr_rf \n",
    "ix = np.argmax(J)\n",
    "\n",
    "best_threshold_rf = threshold[ix]\n",
    "\n",
    "print('Best threshold:', best_threshold_rf)"
   ]
  },
  {
   "cell_type": "code",
   "execution_count": 35,
   "metadata": {},
   "outputs": [
    {
     "data": {
      "text/plain": [
       "array([0., 1., 0., ..., 0., 0., 1.])"
      ]
     },
     "execution_count": 35,
     "metadata": {},
     "output_type": "execute_result"
    }
   ],
   "source": [
    "y_pred_rf[y_pred_rf >= best_threshold_rf] = 1\n",
    "y_pred_rf[y_pred_rf < best_threshold_rf] = 0\n",
    "\n",
    "y_pred_rf"
   ]
  },
  {
   "cell_type": "code",
   "execution_count": 36,
   "metadata": {},
   "outputs": [
    {
     "name": "stdout",
     "output_type": "stream",
     "text": [
      "Accuracy : 0.9015\n",
      "Precision : 0.9466\n",
      "Recall : 0.8526\n",
      "f1 score : 0.8972\n"
     ]
    }
   ],
   "source": [
    "# Metrik evaluasi\n",
    "print('Accuracy : {:.4f}'.format(accuracy_score(y_test, y_pred_rf)))\n",
    "print('Precision : {:.4f}'.format(precision_score(y_test, y_pred_rf)))\n",
    "print('Recall : {:.4f}'.format(recall_score(y_test, y_pred_rf)))\n",
    "print('f1 score : {:.4f}'.format(f1_score(y_test, y_pred_rf)))"
   ]
  },
  {
   "cell_type": "code",
   "execution_count": 77,
   "metadata": {},
   "outputs": [
    {
     "data": {
      "text/plain": [
       "<Axes: xlabel='score', ylabel='feature'>"
      ]
     },
     "execution_count": 77,
     "metadata": {},
     "output_type": "execute_result"
    },
    {
     "data": {
      "image/png": "[encoded data removed]",
      "text/plain": [
       "<Figure size 640x480 with 1 Axes>"
      ]
     },
     "metadata": {},
     "output_type": "display_data"
    }
   ],
   "source": [
    "# Cek sebanyak 20 fitur yang mempunyai pengaruh paling tinggi terhadap model\n",
    "columns = [x for x in train.columns if x != 'Best Performance']\n",
    "\n",
    "feature_rf = pd.DataFrame(columns=['feature'], data=columns)\n",
    "\n",
    "feature_rf['score'] = clf_rf.feature_importances_\n",
    "\n",
    "feature_rf = feature_rf.sort_values(by='score', ascending=False).head(20)\n",
    "\n",
    "sns.barplot(feature_rf, x='score', y='feature')"
   ]
  },
  {
   "cell_type": "code",
   "execution_count": 74,
   "metadata": {},
   "outputs": [
    {
     "name": "stdout",
     "output_type": "stream",
     "text": [
      "Size : (5779,)\n",
      "============\n",
      "Test 0: 2868\n",
      "Test 1: 2911\n",
      "Pred 0: 3157\n",
      "Pred 1: 2622\n",
      "============\n",
      "[[2728  140]\n",
      " [ 429 2482]]\n",
      "============\n",
      "TN: 2728\n",
      "FP: 140\n",
      "FN: 429\n",
      "TP: 2482\n"
     ]
    },
    {
     "data": {
      "text/plain": [
       "Text(50.722222222222214, 0.5, 'Actual')"
      ]
     },
     "execution_count": 74,
     "metadata": {},
     "output_type": "execute_result"
    },
    {
     "data": {
      "image/png": "[encoded data removed]",
      "text/plain": [
       "<Figure size 640x480 with 2 Axes>"
      ]
     },
     "metadata": {},
     "output_type": "display_data"
    }
   ],
   "source": [
    "cm = confusion_matrix(y_test, y_pred_rf)\n",
    "\n",
    "tn, fp, fn, tp = confusion_matrix(y_test, y_pred_rf).ravel()\n",
    "\n",
    "print('Size :', y_test.shape)\n",
    "print(('============'))\n",
    "print('Test 0:', sum(y_test == 0))\n",
    "print('Test 1:', sum(y_test == 1))\n",
    "print('Pred 0:', sum(y_pred_rf == 0))\n",
    "print('Pred 1:', sum(y_pred_rf == 1))\n",
    "print('============')\n",
    "print(cm)\n",
    "print(('============'))\n",
    "print('TN:', tn)\n",
    "print('FP:', fp)\n",
    "print('FN:', fn)\n",
    "print('TP:', tp)\n",
    "\n",
    "ax = sns.heatmap(cm, annot=True, fmt='', cmap='Blues')\n",
    "\n",
    "ax.set_xlabel('Predicted')\n",
    "ax.set_ylabel('Actual')"
   ]
  },
  {
   "cell_type": "markdown",
   "metadata": {},
   "source": [
    "#### Prediksi Testing (Light Gradient Boosting)"
   ]
  },
  {
   "cell_type": "code",
   "execution_count": 39,
   "metadata": {},
   "outputs": [],
   "source": [
    "# Melakukan prediksi berdasarkan probabilitas\n",
    "y_pred_lgbm = clf_lgbm.predict_proba(X_test)[:,1]"
   ]
  },
  {
   "cell_type": "code",
   "execution_count": 40,
   "metadata": {},
   "outputs": [
    {
     "name": "stdout",
     "output_type": "stream",
     "text": [
      "Mean ROC-AUC score Light Gradient Boosting (LGBM): 0.9258642011704354\n"
     ]
    }
   ],
   "source": [
    "score = roc_auc_score(y_test, y_pred_lgbm)\n",
    "\n",
    "# Lakukan cross validation sebanyak 10 kali\n",
    "mean_score = cross_val_score(clf_rf, X_test, y_test, cv=10, scoring='roc_auc')\n",
    "\n",
    "# Nilai rata-rata auc score\n",
    "print('Mean ROC-AUC score Light Gradient Boosting (LGBM):', np.mean(mean_score))"
   ]
  },
  {
   "cell_type": "code",
   "execution_count": 41,
   "metadata": {},
   "outputs": [
    {
     "name": "stdout",
     "output_type": "stream",
     "text": [
      "Best threshold: 0.5033162878482323\n"
     ]
    }
   ],
   "source": [
    "# Perhitungan threshold untuk memprediksi label\n",
    "fpr_lgbm, tpr_lgbm, threshold = roc_curve(y_test, y_pred_lgbm)\n",
    "\n",
    "J = tpr_lgbm - fpr_lgbm \n",
    "ix = np.argmax(J)\n",
    "\n",
    "best_threshold_lgbm = threshold[ix]\n",
    "\n",
    "print('Best threshold:', best_threshold_lgbm)"
   ]
  },
  {
   "cell_type": "code",
   "execution_count": 42,
   "metadata": {},
   "outputs": [
    {
     "data": {
      "text/plain": [
       "array([0., 1., 0., ..., 0., 0., 1.])"
      ]
     },
     "execution_count": 42,
     "metadata": {},
     "output_type": "execute_result"
    }
   ],
   "source": [
    "y_pred_lgbm[y_pred_lgbm >= best_threshold_lgbm] = 1\n",
    "y_pred_lgbm[y_pred_lgbm < best_threshold_lgbm] = 0\n",
    "\n",
    "y_pred_lgbm"
   ]
  },
  {
   "cell_type": "code",
   "execution_count": 43,
   "metadata": {},
   "outputs": [
    {
     "name": "stdout",
     "output_type": "stream",
     "text": [
      "Accuracy : 0.9017\n",
      "Precision : 0.9799\n",
      "Recall : 0.8217\n",
      "f1 score : 0.8939\n"
     ]
    }
   ],
   "source": [
    "# Metrik evaluasi\n",
    "print('Accuracy : {:.4f}'.format(accuracy_score(y_test, y_pred_lgbm)))\n",
    "print('Precision : {:.4f}'.format(precision_score(y_test, y_pred_lgbm)))\n",
    "print('Recall : {:.4f}'.format(recall_score(y_test, y_pred_lgbm)))\n",
    "print('f1 score : {:.4f}'.format(f1_score(y_test, y_pred_lgbm)))"
   ]
  },
  {
   "cell_type": "code",
   "execution_count": 78,
   "metadata": {},
   "outputs": [
    {
     "data": {
      "text/plain": [
       "<Axes: xlabel='score', ylabel='feature'>"
      ]
     },
     "execution_count": 78,
     "metadata": {},
     "output_type": "execute_result"
    },
    {
     "data": {
      "image/png": "[encoded data removed]",
      "text/plain": [
       "<Figure size 640x480 with 1 Axes>"
      ]
     },
     "metadata": {},
     "output_type": "display_data"
    }
   ],
   "source": [
    "# Cek sebanyak 20 fitur yang mempunyai pengaruh paling tinggi terhadap model\n",
    "columns = [x for x in train.columns if x != 'Best Performance']\n",
    "\n",
    "feature_lgbm = pd.DataFrame(columns=['feature'], data=columns)\n",
    "\n",
    "feature_lgbm['score'] = clf_lgbm.feature_importances_\n",
    "\n",
    "feature_lgbm = feature_lgbm.sort_values(by='score', ascending=False).head(20)\n",
    "\n",
    "sns.barplot(feature_lgbm, x='score', y='feature')"
   ]
  },
  {
   "cell_type": "code",
   "execution_count": 75,
   "metadata": {},
   "outputs": [
    {
     "name": "stdout",
     "output_type": "stream",
     "text": [
      "Size : (5779,)\n",
      "============\n",
      "Test 0: 2868\n",
      "Test 1: 2911\n",
      "Pred 0: 3338\n",
      "Pred 1: 2441\n",
      "============\n",
      "[[2819   49]\n",
      " [ 519 2392]]\n",
      "============\n",
      "TN: 2819\n",
      "FP: 49\n",
      "FN: 519\n",
      "TP: 2392\n"
     ]
    },
    {
     "data": {
      "text/plain": [
       "Text(50.722222222222214, 0.5, 'Actual')"
      ]
     },
     "execution_count": 75,
     "metadata": {},
     "output_type": "execute_result"
    },
    {
     "data": {
      "image/png": "[encoded data removed]",
      "text/plain": [
       "<Figure size 640x480 with 2 Axes>"
      ]
     },
     "metadata": {},
     "output_type": "display_data"
    }
   ],
   "source": [
    "cm = confusion_matrix(y_test, y_pred_lgbm)\n",
    "\n",
    "tn, fp, fn, tp = confusion_matrix(y_test, y_pred_lgbm).ravel()\n",
    "\n",
    "print('Size :', y_test.shape)\n",
    "print(('============'))\n",
    "print('Test 0:', sum(y_test == 0))\n",
    "print('Test 1:', sum(y_test == 1))\n",
    "print('Pred 0:', sum(y_pred_lgbm == 0))\n",
    "print('Pred 1:', sum(y_pred_lgbm == 1))\n",
    "print('============')\n",
    "print(cm)\n",
    "print(('============'))\n",
    "print('TN:', tn)\n",
    "print('FP:', fp)\n",
    "print('FN:', fn)\n",
    "print('TP:', tp)\n",
    "\n",
    "ax = sns.heatmap(cm, annot=True, fmt='', cmap='Blues')\n",
    "\n",
    "ax.set_xlabel('Predicted')\n",
    "ax.set_ylabel('Actual')"
   ]
  },
  {
   "cell_type": "markdown",
   "metadata": {},
   "source": [
    "#### Prediksi Testing (Naive Bayes)"
   ]
  },
  {
   "cell_type": "code",
   "execution_count": 46,
   "metadata": {},
   "outputs": [],
   "source": [
    "# Melakukan prediksi berdasarkan probabilitas\n",
    "y_pred_nb = clf_nb.predict_proba(X_test)[:,1]"
   ]
  },
  {
   "cell_type": "code",
   "execution_count": 47,
   "metadata": {},
   "outputs": [
    {
     "name": "stdout",
     "output_type": "stream",
     "text": [
      "Mean ROC-AUC score K-Nearest Neighbor (KNN): 0.6763866349142216\n"
     ]
    }
   ],
   "source": [
    "score = roc_auc_score(y_test, y_pred_nb)\n",
    "\n",
    "# Lakukan cross validation sebanyak 10 kali\n",
    "mean_score = cross_val_score(clf_nb, X_test, y_test, cv=10, scoring='roc_auc')\n",
    "\n",
    "# Nilai rata-rata auc score\n",
    "print('Mean ROC-AUC score K-Nearest Neighbor (KNN):', np.mean(mean_score))"
   ]
  },
  {
   "cell_type": "code",
   "execution_count": 48,
   "metadata": {},
   "outputs": [
    {
     "name": "stdout",
     "output_type": "stream",
     "text": [
      "Best threshold: 0.6738756670094529\n"
     ]
    }
   ],
   "source": [
    "# Perhitungan threshold untuk memprediksi label\n",
    "fpr_nb, tpr_nb, threshold = roc_curve(y_test, y_pred_nb)\n",
    "\n",
    "J = tpr_nb - fpr_nb\n",
    "ix = np.argmax(J)\n",
    "\n",
    "best_threshold_nb = threshold[ix]\n",
    "\n",
    "print('Best threshold:', best_threshold_nb)"
   ]
  },
  {
   "cell_type": "code",
   "execution_count": 49,
   "metadata": {},
   "outputs": [
    {
     "data": {
      "text/plain": [
       "array([0., 0., 0., ..., 0., 0., 1.])"
      ]
     },
     "execution_count": 49,
     "metadata": {},
     "output_type": "execute_result"
    }
   ],
   "source": [
    "y_pred_nb[y_pred_nb >= best_threshold_nb] = 1\n",
    "y_pred_nb[y_pred_nb < best_threshold_nb] = 0\n",
    "\n",
    "y_pred_nb"
   ]
  },
  {
   "cell_type": "code",
   "execution_count": 50,
   "metadata": {},
   "outputs": [
    {
     "name": "stdout",
     "output_type": "stream",
     "text": [
      "Accuracy : 0.6636\n",
      "Precision : 0.6897\n",
      "Recall : 0.6039\n",
      "f1 score : 0.6440\n"
     ]
    }
   ],
   "source": [
    "# Metrik evaluasi\n",
    "print('Accuracy : {:.4f}'.format(accuracy_score(y_test, y_pred_nb)))\n",
    "print('Precision : {:.4f}'.format(precision_score(y_test, y_pred_nb)))\n",
    "print('Recall : {:.4f}'.format(recall_score(y_test, y_pred_nb)))\n",
    "print('f1 score : {:.4f}'.format(f1_score(y_test, y_pred_nb)))"
   ]
  },
  {
   "cell_type": "code",
   "execution_count": 76,
   "metadata": {},
   "outputs": [
    {
     "name": "stdout",
     "output_type": "stream",
     "text": [
      "Size : (5779,)\n",
      "============\n",
      "Test 0: 2868\n",
      "Test 1: 2911\n",
      "Pred 0: 3230\n",
      "Pred 1: 2549\n",
      "============\n",
      "[[2077  791]\n",
      " [1153 1758]]\n",
      "============\n",
      "TN: 2077\n",
      "FP: 791\n",
      "FN: 1153\n",
      "TP: 1758\n"
     ]
    },
    {
     "data": {
      "text/plain": [
       "Text(50.722222222222214, 0.5, 'Actual')"
      ]
     },
     "execution_count": 76,
     "metadata": {},
     "output_type": "execute_result"
    },
    {
     "data": {
      "image/png": "[encoded data removed]",
      "text/plain": [
       "<Figure size 640x480 with 2 Axes>"
      ]
     },
     "metadata": {},
     "output_type": "display_data"
    }
   ],
   "source": [
    "cm = confusion_matrix(y_test, y_pred_nb)\n",
    "\n",
    "tn, fp, fn, tp = confusion_matrix(y_test, y_pred_nb).ravel()\n",
    "\n",
    "print('Size :', y_test.shape)\n",
    "print(('============'))\n",
    "print('Test 0:', sum(y_test == 0))\n",
    "print('Test 1:', sum(y_test == 1))\n",
    "print('Pred 0:', sum(y_pred_nb == 0))\n",
    "print('Pred 1:', sum(y_pred_nb == 1))\n",
    "print('============')\n",
    "print(cm)\n",
    "print(('============'))\n",
    "print('TN:', tn)\n",
    "print('FP:', fp)\n",
    "print('FN:', fn)\n",
    "print('TP:', tp)\n",
    "\n",
    "ax = sns.heatmap(cm, annot=True, fmt='', cmap='Blues')\n",
    "\n",
    "ax.set_xlabel('Predicted')\n",
    "ax.set_ylabel('Actual')"
   ]
  },
  {
   "cell_type": "markdown",
   "metadata": {},
   "source": [
    "#### Future Works \n",
    "Setelah melihat isi dari notebook, nantinya dapat terlihat bahwa model Naive Bayes memiliki skor evaluasi yang rendah. <br> \n",
    "Bagaimana jika melalukan pencarian terhadap parameter optimal ? Bagaimana apabila dengan metode k-best dipilih fitur yang terbaik untuk membentuk model ? <br>\n",
    "Bagaimana dengan algoritma klasifikasi supervised lainnya seperti KNN, SVM, logistic regression dll ? <br>"
   ]
  }
 ],
 "metadata": {
  "kernelspec": {
   "display_name": "Python 3",
   "language": "python",
   "name": "python3"
  },
  "language_info": {
   "codemirror_mode": {
    "name": "ipython",
    "version": 3
   },
   "file_extension": ".py",
   "mimetype": "text/x-python",
   "name": "python",
   "nbconvert_exporter": "python",
   "pygments_lexer": "ipython3",
   "version": "3.11.5"
  }
 },
 "nbformat": 4,
 "nbformat_minor": 2
}
